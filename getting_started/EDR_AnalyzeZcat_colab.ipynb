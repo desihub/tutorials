{
  "cells": [
    {
      "cell_type": "markdown",
      "metadata": {
        "id": "view-in-github",
        "colab_type": "text"
      },
      "source": [
        "<a href=\"https://colab.research.google.com/github/desihub/tutorials/blob/edr_colab/getting_started/EDR_AnalyzeZcat_colab.ipynb\" target=\"_parent\"><img src=\"https://colab.research.google.com/assets/colab-badge.svg\" alt=\"Open In Colab\"/></a>"
      ]
    },
    {
      "cell_type": "markdown",
      "id": "09db9039-680d-449c-9cb5-b3d714d219cf",
      "metadata": {
        "tags": [],
        "id": "09db9039-680d-449c-9cb5-b3d714d219cf"
      },
      "source": [
        "# Statistics of EDR targets with multiple spectra\n",
        "\n",
        "May 2023\n",
        "\n",
        "*Angela Berti (U.Utah), Ragadeepika Pucha (U.Arizona), Stephanie Juneau (NOIRLab), Anthony Kremin (Berkeley Lab), Jaime E. Forero-Romero (Uniandes), Alma González (U. of Guanajuato) and DESI Data Team*\n",
        "\n",
        "This notebook has been tested in Colaboratory in November 2023.\n",
        "\n",
        "### Table of Contents\n",
        "* [Overview](#overview)\n",
        "* [Imports](#imports)\n",
        "* [Accessing the data](#data)\n",
        "* [Catalog statistics by survey](#stats_survey)\n",
        "  * [Unique targets in each survey](#counts_survey_total)\n",
        "* [Primary spectra](#primary)\n",
        "* [Catalog statistics by target type](#stats_target)\n",
        "  * [DESI target masks](#masks_desi)\n",
        "  * [Spectra by target type](#counts_target)\n",
        "* [Redshift distributions by target type and survey](#redshift_dist)\n",
        "* [Target counts by target type and survey](#counts_target_survey)\n",
        "* [Targets with multiple spectra](#multispec)\n",
        "  * [Multiple SPECTYPE classifications](#spectype_diff)\n",
        "  * [Bright versus dark time spectra of the same target](#bright_dark)\n",
        "\n",
        "<a class=\"anchor\" id=\"overview\"></a>\n",
        "## Overview\n",
        "\n",
        "This notebook demonstrates how to flag a unique set of the primary (i.e., best) spectrum for an object in the EDR catalog, and apply some basic quality cuts. This notebook also provides examples of how break down the data in the combined catalog by target type (BGS, LRG, etc.), survey (SV1, SV2, etc.), and the number of spectra per target. Finally, it covers how to extract and plot different spectra of the same target.\n",
        "\n",
        "<a class=\"anchor\" id=\"imports\"></a>\n",
        "## Imports"
      ]
    },
    {
      "cell_type": "code",
      "source": [
        "!pip install fitsio\n",
        "!wget https://github.com/desihub/tutorials/blob/main/mpl/desi.mplstyle"
      ],
      "metadata": {
        "id": "YnhJru_5uPTq"
      },
      "id": "YnhJru_5uPTq",
      "execution_count": null,
      "outputs": []
    },
    {
      "cell_type": "code",
      "source": [
        "from   google.colab import drive\n",
        "import os\n",
        "import sys\n",
        "import subprocess"
      ],
      "metadata": {
        "id": "dZFiDZjTuEDs"
      },
      "id": "dZFiDZjTuEDs",
      "execution_count": null,
      "outputs": []
    },
    {
      "cell_type": "code",
      "source": [
        "drivepath='/content/drive/'\n",
        "drive.mount(drivepath, force_remount=True)\n",
        "desiedr_path = drivepath + '/MyDrive/desi_edr/'\n",
        "desicode_path = desiedr_path+'/desicode'\n",
        "specprod = 'fuji'    # Internal name for the EDR\n",
        "specprod_dir = desiedr_path+specprod"
      ],
      "metadata": {
        "id": "fh4aqJ8duTl3"
      },
      "id": "fh4aqJ8duTl3",
      "execution_count": null,
      "outputs": []
    },
    {
      "cell_type": "code",
      "source": [
        "specprod_dir"
      ],
      "metadata": {
        "id": "GxOsTTReLSCD"
      },
      "id": "GxOsTTReLSCD",
      "execution_count": null,
      "outputs": []
    },
    {
      "cell_type": "code",
      "source": [
        "#Check that directory structure exist, otherwise create the necesary directories.\n",
        "if not os.path.exists(desiedr_path):\n",
        "  os.makedirs(desiedr_path)\n",
        "if not os.path.exists(specprod_dir):\n",
        "  os.makedirs(specprod_dir)\n",
        "if not os.path.exists(specprod_dir+'/zcatalog'):\n",
        "  os.makedirs(specprod_dir+'/zcatalog')\n",
        "if not os.path.exists(specprod_dir+'/healpix'):\n",
        "  os.makedirs(specprod_dir+'/healpix')\n",
        "if not os.path.exists(desicode_path):\n",
        "  os.makedirs(desicode_path)\n",
        "\n",
        "#clone desicode.\n",
        "#You have to do this only once, you could comment these cells afterwards.\n",
        "os.chdir(desicode_path)\n",
        "subprocess.run('git clone https://github.com/desihub/desitarget.git --depth=1', shell=True, check=True)\n",
        "subprocess.run('git clone https://github.com/desihub/desiutil.git --depth=1', shell=True, check=True)\n",
        "subprocess.run('git clone https://github.com/desihub/desispec.git --depth=1', shell=True, check=True)\n",
        "subprocess.run('git clone https://github.com/desihub/desimodel.git --depth=1', shell=True, check=True)\n",
        "subprocess.run('git clone https://github.com/desihub/speclite.git --depth=1', shell=True, check=True)\n"
      ],
      "metadata": {
        "id": "-visJWMCx6vT"
      },
      "id": "-visJWMCx6vT",
      "execution_count": null,
      "outputs": []
    },
    {
      "cell_type": "code",
      "source": [
        "#This lines adds the code paths to the main path to look for the relevan libraries,\n",
        "#so we don't have to actually install the code.\n",
        "sys.path.insert(1,desicode_path+\"/desitarget/py/\")\n",
        "sys.path.insert(1,desicode_path+\"/desiutil/py/\")\n",
        "sys.path.insert(1,desicode_path+\"/desispec/py/\")\n",
        "sys.path.insert(1,desicode_path+\"/desimodel/py/\")\n",
        "sys.path.insert(1,desicode_path+'/speclite/')"
      ],
      "metadata": {
        "id": "sEY7QyMuuqyb"
      },
      "id": "sEY7QyMuuqyb",
      "execution_count": null,
      "outputs": []
    },
    {
      "cell_type": "code",
      "execution_count": null,
      "id": "9d6b236f-26e5-4c31-90a5-c48cfad38000",
      "metadata": {
        "id": "9d6b236f-26e5-4c31-90a5-c48cfad38000"
      },
      "outputs": [],
      "source": [
        "import numpy as np\n",
        "\n",
        "import fitsio\n",
        "\n",
        "from astropy.io import fits\n",
        "from astropy.table import Table, vstack, join\n",
        "from astropy.convolution import convolve, Gaussian1DKernel\n",
        "\n",
        "import matplotlib\n",
        "import matplotlib.pyplot as plt\n",
        "\n",
        "#-- input/output functions related to DESI spectra\n",
        "import desispec.io\n",
        "plt.style.use(\"desi.mplstyle\")\n"
      ]
    },
    {
      "cell_type": "markdown",
      "id": "c67a1345-1763-4a89-9539-7994f9334806",
      "metadata": {
        "id": "c67a1345-1763-4a89-9539-7994f9334806"
      },
      "source": [
        "<a class=\"anchor\" id=\"data\"></a>\n",
        "## Accessing the data\n",
        "\n",
        "The DESI Early Data Release (EDR) consists some of the commissioning data, as well as the whole of the survey validation (SV) data. This includes SV1, SV2, and SV3 (1% survey).\n",
        "Information about the SV data can be found [here](https://data.desi.lbl.gov/doc/).\n",
        "\n",
        "For the EDR data, the spectra are divided by the `SURVEY` (sv1/sv2/sv3) they were observed in. The observing conditions (dark or bright), called as `PROGRAM` in the DESI terminology, is used to categorize the spectra further."
      ]
    },
    {
      "cell_type": "code",
      "execution_count": null,
      "id": "9c7aed15-544f-47ac-bd2b-8e8be94a0819",
      "metadata": {
        "id": "9c7aed15-544f-47ac-bd2b-8e8be94a0819"
      },
      "outputs": [],
      "source": [
        "import urllib.request\n",
        "# Release directory path\n",
        "\n",
        "catalog_url= \"https://data.desi.lbl.gov/public/edr/spectro/redux/fuji/zcatalog/\"\n",
        "base_url= \"https://data.desi.lbl.gov/public/edr/spectro/redux/fuji/\"\n",
        "\n",
        "zcat_pix= \"zall-pix-fuji.fits\"\n",
        "local_zcat_pix = os.path.join(desiedr_path+'/fuji/zcatalog/',zcat_pix)\n",
        "\n",
        "if not os.path.exists(local_zcat_pix):\n",
        "        #os.makedirs(desiedr_path+'/fuji/zcatalog/')\n",
        "        print(\"downloading DESI catalog from %s to %s\"\n",
        "              % (catalog_url+zcat_pix, local_zcat_pix ))\n",
        "        tmp = urllib.request.urlretrieve(catalog_url+zcat_pix,local_zcat_pix)\n",
        "        print (\"Downloaded file\"+local_zcat_pix)\n",
        "else:\n",
        "    print(\"%s already exist\"%(local_zcat_pix))"
      ]
    },
    {
      "cell_type": "code",
      "execution_count": null,
      "id": "219f3315-b9f8-4118-b4df-0160bb1fcab2",
      "metadata": {
        "id": "219f3315-b9f8-4118-b4df-0160bb1fcab2"
      },
      "outputs": [],
      "source": [
        "fujidata = Table( fitsio.read(local_zcat_pix))"
      ]
    },
    {
      "cell_type": "markdown",
      "id": "4dcecb99-a5b9-49e1-b138-9036d979d6ed",
      "metadata": {
        "id": "4dcecb99-a5b9-49e1-b138-9036d979d6ed"
      },
      "source": [
        "<a class=\"anchor\" id=\"stats_survey\"></a>\n",
        "\n",
        "## Statistics of the combined catalog by survey\n",
        "\n",
        "<a class=\"anchor\" id=\"masks_survey\"></a>\n",
        "\n",
        "### Create masks to select each survey"
      ]
    },
    {
      "cell_type": "code",
      "execution_count": null,
      "id": "71ab0f8f-575e-4f68-bedf-907ebec1cbfa",
      "metadata": {
        "id": "71ab0f8f-575e-4f68-bedf-907ebec1cbfa"
      },
      "outputs": [],
      "source": [
        "#-- SV1/2/3\n",
        "is_sv1 = (fujidata[\"SURVEY\"].astype(str).data == \"sv1\")\n",
        "is_sv2 = (fujidata[\"SURVEY\"].astype(str).data == \"sv2\")\n",
        "is_sv3 = (fujidata[\"SURVEY\"].astype(str).data == \"sv3\")\n",
        "\n",
        "#-- all SV data\n",
        "is_sv = (is_sv1 | is_sv2 | is_sv3)\n",
        "\n",
        "#-- commissioning data\n",
        "is_cmx = (fujidata[\"SURVEY\"].astype(str).data == \"cmx\")\n",
        "\n",
        "#-- special tiles\n",
        "is_special = (fujidata[\"SURVEY\"].astype(str).data == \"special\")"
      ]
    },
    {
      "cell_type": "markdown",
      "id": "97b94f4d-7cab-4884-bb63-b8fdb179bd99",
      "metadata": {
        "id": "97b94f4d-7cab-4884-bb63-b8fdb179bd99"
      },
      "source": [
        "<a class=\"anchor\" id=\"counts_survey_total\"></a>\n",
        "\n",
        "### Identify the total number of unique targets observed in each survey, as well as in the combined catalog\n",
        "\n",
        "Uncomment specific lines to print numbers for additional surveys."
      ]
    },
    {
      "cell_type": "code",
      "execution_count": null,
      "id": "1925db46-b0cd-4ff4-bad1-02eb72ee65eb",
      "metadata": {
        "id": "1925db46-b0cd-4ff4-bad1-02eb72ee65eb"
      },
      "outputs": [],
      "source": [
        "#-- all unique targets in SV\n",
        "targids_sv = np.unique(fujidata[\"TARGETID\"][is_sv])\n",
        "\n",
        "print(\"Unique targets in SV:     {0:8}\".format( len(targids_sv) ))\n",
        "\n",
        "print(\"\\nTotal unique targets in combined catalog: {}\\n\".format( len(np.unique(fujidata[\"TARGETID\"])) ))\n",
        "\n",
        "print(\"Unique targets in SV1:    {0:8}\".format( len(np.unique(fujidata[\"TARGETID\"][is_sv1])) ))\n",
        "print(\"Unique targets in SV2:    {0:8}\".format( len(np.unique(fujidata[\"TARGETID\"][is_sv2])) ))\n",
        "print(\"Unique targets in SV3:    {0:8}\".format( len(np.unique(fujidata[\"TARGETID\"][is_sv3])) ))\n",
        "\n",
        "print(\"\\nUnique targets in CMX:    {0:8}\".format( len(np.unique(fujidata[\"TARGETID\"][is_cmx])) ))\n",
        "\n",
        "print(\"\\nUnique targets in Special:{0:8}\".format( len(np.unique(fujidata[\"TARGETID\"][is_special])) ))\n"
      ]
    },
    {
      "cell_type": "markdown",
      "id": "03ca89fe-63d0-415a-8931-995f70c1141a",
      "metadata": {
        "id": "03ca89fe-63d0-415a-8931-995f70c1141a"
      },
      "source": [
        "<a class=\"anchor\" id=\"primary\"></a>\n",
        "\n",
        "## Primary spectra\n",
        "\n",
        "The catalog contains columns that flag the set of primary spectra within just SV data (`SV_PRIMARY`) and the across entire catalog (`ZCAT_PRIMARY`). Note that the set of primary spectra identified within just SV data (`SV_PRIMARY` flag) is *not* the same as identifying primary spectra across the entire combined catalog and *then* selecting by survey, i.e.,\n",
        "\n",
        "$$\n",
        "\\begin{align}\n",
        "\\texttt{fujidata}[\"\\!\\texttt{ZCAT}\\_\\texttt{PRIMARY}\\!\"][\\ \\texttt{is}\\_\\texttt{sv}\\ ] &\\neq \\texttt{fujidata}[\"\\!\\texttt{SV}\\_\\texttt{PRIMARY}\\!\"]\n",
        "\\end{align}\n",
        "$$\n",
        "\n",
        "<a class=\"anchor\" id=\"counts_survey_unique\"></a>\n",
        "### How many primary spectra are in SV, the combined catalog, and other surveys?\n",
        "Uncomment specific lines to print numbers for other surveys."
      ]
    },
    {
      "cell_type": "code",
      "execution_count": null,
      "id": "636a83d1-9353-4f96-9785-956630f3de3d",
      "metadata": {
        "id": "636a83d1-9353-4f96-9785-956630f3de3d"
      },
      "outputs": [],
      "source": [
        "print(\"Primary spectra in...\\n\")\n",
        "print(\"  SV:              {0:8}\".format( np.count_nonzero(is_sv & fujidata[\"SV_PRIMARY\"])))\n",
        "print(\"  combined catalog:{0:8}\\n\".format( np.count_nonzero(fujidata[\"ZCAT_PRIMARY\"])))\n",
        "\n",
        "print(\"  SV1:    {0:8}\".format( np.count_nonzero(is_sv1 & fujidata[\"SV_PRIMARY\"]) ))\n",
        "print(\"  SV2:    {0:8}\".format( np.count_nonzero(is_sv2 & fujidata[\"SV_PRIMARY\"]) ))\n",
        "print(\"  SV3:    {0:8}\\n\".format( np.count_nonzero(is_sv3 & fujidata[\"SV_PRIMARY\"]) ))\n",
        "\n",
        "print(\"  CMX:    {0:8}\\n\".format( np.count_nonzero(is_cmx & fujidata[\"ZCAT_PRIMARY\"]) ))\n",
        "\n",
        "print(\"  Special:{0:8}\".format( np.count_nonzero(is_special & fujidata[\"ZCAT_PRIMARY\"]) ))\n"
      ]
    },
    {
      "cell_type": "markdown",
      "id": "12b829a4-c325-4c4e-9ff7-d2747c7153ff",
      "metadata": {
        "tags": [],
        "id": "12b829a4-c325-4c4e-9ff7-d2747c7153ff"
      },
      "source": [
        "\n",
        "<a class=\"anchor\" id=\"stats_target\"></a>\n",
        "## Statistics of the combined catalog by target type\n",
        "\n",
        "<a class=\"anchor\" id=\"masks_desi\"></a>\n",
        "### DESI target masks\n",
        "\n",
        "Targeting bits are encoded in `desi_mask`, which can be imported from `desitarget.targetmask` or from any of the SV libraries (e.g., from `desitarget.sv1.sv1_targetmask`, etc.). While not universally true, for the purposes of this notebook it doesn\"t matter which `desi_mask` is used; any of the four import options below will give the same results.\n"
      ]
    },
    {
      "cell_type": "code",
      "execution_count": null,
      "id": "3373af8f-d369-4a9d-8cbc-448e27ae151e",
      "metadata": {
        "id": "3373af8f-d369-4a9d-8cbc-448e27ae151e"
      },
      "outputs": [],
      "source": [
        "from desitarget.targetmask import desi_mask, bgs_mask, scnd_mask\n",
        "# from desitarget.sv1.sv1_targetmask import desi_mask, bgs_mask, scnd_mask  # SV1\n",
        "# from desitarget.sv2.sv2_targetmask import desi_mask, bgs_mask, scnd_mask  # SV2\n",
        "# from desitarget.sv3.sv3_targetmask import desi_mask, bgs_mask, scnd_mask  # SV3\n"
      ]
    },
    {
      "cell_type": "code",
      "execution_count": null,
      "id": "fadfc877-af89-4223-96f4-766d3cea7a5d",
      "metadata": {
        "id": "fadfc877-af89-4223-96f4-766d3cea7a5d"
      },
      "outputs": [],
      "source": [
        "#-- select the target mask for each type of target (BGS, LRG, ELG, QSO, etc.)\n",
        "\n",
        "bgs_tgtmask  = desi_mask[\"BGS_ANY\"]\n",
        "lrg_tgtmask  = desi_mask[\"LRG\"]\n",
        "elg_tgtmask  = desi_mask[\"ELG\"]\n",
        "qso_tgtmask  = desi_mask[\"QSO\"]\n",
        "mws_tgtmask  = desi_mask[\"MWS_ANY\"]\n",
        "scnd_tgtmask = desi_mask[\"SCND_ANY\"]\n"
      ]
    },
    {
      "cell_type": "markdown",
      "id": "ab0af6c8-3e8e-463d-aebb-3cab7d1c9dd6",
      "metadata": {
        "tags": [],
        "id": "ab0af6c8-3e8e-463d-aebb-3cab7d1c9dd6"
      },
      "source": [
        "<a class=\"anchor\" id=\"masks_target\"></a>\n",
        "\n",
        "### Define masks to select all targets of each type from the combined catalog\n",
        "\n",
        "Information about DESI target selection is stored in the `DESI_TARGET` column. Similarly, the `SV1_DESI_TARGET`, `SV2_DESI_TARGET`, and `SV3_DESI_TARGET` columns indicate which objects were targeted specifically during SV. The masks below select *all* targets of a given type.\n"
      ]
    },
    {
      "cell_type": "code",
      "execution_count": null,
      "id": "7e60afd7-fe63-40a5-892d-2172217d86da",
      "metadata": {
        "id": "7e60afd7-fe63-40a5-892d-2172217d86da"
      },
      "outputs": [],
      "source": [
        "desi_target = fujidata[\"DESI_TARGET\"]\n",
        "\n",
        "#-- all BGS targets\n",
        "is_bgs = (desi_target & bgs_tgtmask != 0) | (fujidata[\"SV1_DESI_TARGET\"] & bgs_tgtmask != 0) | \\\n",
        "         (fujidata[\"SV2_DESI_TARGET\"] & bgs_tgtmask != 0) | (fujidata[\"SV3_DESI_TARGET\"] & bgs_tgtmask != 0)\n",
        "\n",
        "#-- all LRG targets\n",
        "is_lrg = (desi_target & lrg_tgtmask != 0) | (fujidata[\"SV1_DESI_TARGET\"] & lrg_tgtmask != 0) | \\\n",
        "         (fujidata[\"SV2_DESI_TARGET\"] & lrg_tgtmask != 0) | (fujidata[\"SV3_DESI_TARGET\"] & lrg_tgtmask != 0)\n",
        "\n",
        "#-- all ELG targets\n",
        "is_elg = (desi_target & elg_tgtmask != 0) | (fujidata[\"SV1_DESI_TARGET\"] & elg_tgtmask != 0) | \\\n",
        "         (fujidata[\"SV2_DESI_TARGET\"] & elg_tgtmask != 0) | (fujidata[\"SV3_DESI_TARGET\"] & elg_tgtmask != 0)\n",
        "\n",
        "#-- all QSO targets\n",
        "is_qso = (desi_target & qso_tgtmask != 0) | (fujidata[\"SV1_DESI_TARGET\"] & qso_tgtmask != 0) | \\\n",
        "         (fujidata[\"SV2_DESI_TARGET\"] & qso_tgtmask != 0) | (fujidata[\"SV3_DESI_TARGET\"] & qso_tgtmask != 0)\n",
        "\n",
        "#-- all Milky Way targets\n",
        "is_mws = (desi_target & mws_tgtmask != 0) | (fujidata[\"SV1_DESI_TARGET\"] & mws_tgtmask != 0) | \\\n",
        "         (fujidata[\"SV2_DESI_TARGET\"] & mws_tgtmask != 0) | (fujidata[\"SV3_DESI_TARGET\"] & mws_tgtmask != 0)\n",
        "\n",
        "#-- all secondary targets\n",
        "is_scnd = (desi_target & scnd_tgtmask != 0) | (fujidata[\"SV1_DESI_TARGET\"] & scnd_tgtmask != 0) | \\\n",
        "          (fujidata[\"SV2_DESI_TARGET\"] & scnd_tgtmask != 0) | (fujidata[\"SV3_DESI_TARGET\"] & scnd_tgtmask != 0)\n"
      ]
    },
    {
      "cell_type": "markdown",
      "id": "50d72365-c208-4044-a267-e2def723825d",
      "metadata": {
        "id": "50d72365-c208-4044-a267-e2def723825d"
      },
      "source": [
        "<a class=\"anchor\" id=\"counts_target\"></a>\n",
        "### Plot the total number of spectra of each target type\n"
      ]
    },
    {
      "cell_type": "code",
      "execution_count": null,
      "id": "d11c02d2-0853-466b-806b-bbfb2fe2dcf7",
      "metadata": {
        "id": "d11c02d2-0853-466b-806b-bbfb2fe2dcf7"
      },
      "outputs": [],
      "source": [
        "#-- total number of spectra by target type\n",
        "n_bgs  = np.count_nonzero(is_bgs)\n",
        "n_lrg  = np.count_nonzero(is_lrg)\n",
        "n_elg  = np.count_nonzero(is_elg)\n",
        "n_qso  = np.count_nonzero(is_qso)\n",
        "n_mws  = np.count_nonzero(is_mws)\n",
        "n_scnd = np.count_nonzero(is_scnd)\n",
        "\n",
        "counts = [n_bgs, n_lrg, n_elg, n_qso, n_mws, n_scnd]\n",
        "\n",
        "#-- number of primary spectra by target type\n",
        "is_primary = fujidata[\"ZCAT_PRIMARY\"]\n",
        "\n",
        "n_bgs_prim  = np.count_nonzero(is_bgs & is_primary)\n",
        "n_lrg_prim  = np.count_nonzero(is_lrg & is_primary)\n",
        "n_elg_prim  = np.count_nonzero(is_elg & is_primary)\n",
        "n_qso_prim  = np.count_nonzero(is_qso & is_primary)\n",
        "n_mws_prim  = np.count_nonzero(is_mws & is_primary)\n",
        "n_scnd_prim = np.count_nonzero(is_scnd & is_primary)\n",
        "\n",
        "counts_prim = [n_bgs_prim, n_lrg_prim, n_elg_prim, n_qso_prim, n_mws_prim, n_scnd_prim]\n"
      ]
    },
    {
      "cell_type": "code",
      "execution_count": null,
      "id": "1c8706f1-ea84-44cf-8db1-c3e2ff1d7786",
      "metadata": {
        "id": "1c8706f1-ea84-44cf-8db1-c3e2ff1d7786"
      },
      "outputs": [],
      "source": [
        "fig, ax = plt.subplots(1, 1, figsize=(8,6))\n",
        "\n",
        "targets = [\"BGS\", \"LRG\", \"ELG\", \"QSO\", \"MWS\", \"SCND\"]\n",
        "\n",
        "ax.bar(targets, counts, color=\"purple\", alpha=0.4, label=\"All spectra (includes duplicate targets)\")\n",
        "ax.bar(targets, counts_prim, color=\"purple\", alpha=1, label=\"Primary spectra (unique targets)\")\n",
        "ax.set_ylabel(\"Number of spectra\")\n",
        "ax.semilogy()\n",
        "ax.set_ylim(1e5, 2e6)\n",
        "\n",
        "for i in range(len(targets)):\n",
        "    ax.text(targets[i], counts[i], counts[i], ha=\"center\", va=\"bottom\", fontsize=16)\n",
        "    ax.text(targets[i], counts_prim[i], counts_prim[i], ha=\"center\", va=\"top\", fontsize=16, color=\"white\")\n",
        "\n",
        "plt.legend(fontsize=18, frameon=False, markerfirst=False)\n",
        "plt.tight_layout()\n",
        "plt.show()\n"
      ]
    },
    {
      "cell_type": "markdown",
      "id": "7b623fb7-fada-471a-b387-f29a3338533f",
      "metadata": {
        "id": "7b623fb7-fada-471a-b387-f29a3338533f"
      },
      "source": [
        "<a class=\"anchor\" id=\"redshift_dist\"></a>\n",
        "\n",
        "## Redshift distributions by target type and survey"
      ]
    },
    {
      "cell_type": "code",
      "execution_count": null,
      "id": "689e1227-d083-49df-bd44-04d95660c506",
      "metadata": {
        "id": "689e1227-d083-49df-bd44-04d95660c506"
      },
      "outputs": [],
      "source": [
        "fig, axes = plt.subplots(2, 2, figsize=(16,10))\n",
        "\n",
        "bins = np.arange(0,4,0.1)\n",
        "\n",
        "type_masks = (is_bgs, is_lrg, is_elg, is_qso)\n",
        "colors     = (\"C0\",\"C1\",\"C2\",\"C3\")\n",
        "\n",
        "for ax,type_mask,name,color in zip(np.concatenate(axes), type_masks, targets[:-2], colors):\n",
        "    kwargs = dict(color=color, bins=bins)\n",
        "\n",
        "    ax.hist(fujidata[\"Z\"][type_mask], **kwargs, alpha=0.3, label=f\"Total: {len(fujidata[type_mask])}\")\n",
        "    ax.hist(fujidata[\"Z\"][type_mask], bins=bins, histtype=\"step\", color=\"black\")\n",
        "\n",
        "    mask = type_mask & is_sv\n",
        "    ax.hist(fujidata[\"Z\"][mask], **kwargs, label=f\"SV only: {len(fujidata[mask])}\")\n",
        "    ax.hist(fujidata[\"Z\"][mask], bins=bins, histtype=\"step\", color=\"black\")\n",
        "\n",
        "    ax.legend(fontsize=20, markerfirst=False, handletextpad=0.25, frameon=False)\n",
        "    ax.set_title(f\"{name} targets\", fontsize=22)\n",
        "\n",
        "for ax in axes[-1]:\n",
        "    ax.set_xlabel(\"Redshift\")\n",
        "\n",
        "for ax in np.concatenate(axes):\n",
        "    ax.set_xlim(-0.1,4.0)\n",
        "    ax.set_xticks(np.arange(0,4.1,0.5))\n",
        "    ax.set_ylabel(\"N(z)\")\n",
        "    ax.ticklabel_format(axis=\"y\", style=\"sci\", scilimits=(0,0))\n",
        "\n",
        "plt.tight_layout()\n",
        "plt.subplots_adjust(hspace=0.2, wspace=0.15)"
      ]
    },
    {
      "cell_type": "markdown",
      "id": "4da59646-672a-4f07-b5c3-6ed3cec7ad4a",
      "metadata": {
        "id": "4da59646-672a-4f07-b5c3-6ed3cec7ad4a"
      },
      "source": [
        "### Target class versus Redrock spectral type\n",
        "\n",
        "The above plot shows $N(z)$ for all *targets* of a given type, but [Redrock](https://github.com/desihub/redrock) will not necessarily classify all spectra as having the same spectral type as their original target class. For example, the following plot breaks down QSO targets by their Redrock spectral type (`GALAXY`, `QSO`, or `STAR`), contained in the `SPECTYPE` column."
      ]
    },
    {
      "cell_type": "code",
      "execution_count": null,
      "id": "7c4a0cc9-74d5-45a9-b468-ebe2f8db0c75",
      "metadata": {
        "id": "7c4a0cc9-74d5-45a9-b468-ebe2f8db0c75"
      },
      "outputs": [],
      "source": [
        "fig, ax = plt.subplots(1, 1, figsize=(10.5,7.5))\n",
        "\n",
        "bins = np.arange(0,4.1,0.1)\n",
        "\n",
        "#-- all QSO targets\n",
        "ax.hist(fujidata[\"Z\"][is_qso], bins=bins, color=\"gray\", alpha=0.5, label=f\"QSO targets: {n_qso}\")\n",
        "\n",
        "#-- QSO targets classified as galaxies\n",
        "spec_gal = is_qso & (fujidata[\"SPECTYPE\"]==\"GALAXY\")\n",
        "ax.hist(fujidata[\"Z\"][spec_gal], bins=bins, histtype=\"step\", hatch=\"\\\\\\\\\\\\\", color=\"k\", lw=1.5,\n",
        "        label=f\"SPECTYPE=\\\"GALAXY\\\" ({100*len(fujidata[spec_gal])/n_qso:.1f}%)\")\n",
        "\n",
        "#-- QSO targets classified as quasars\n",
        "spec_qso = is_qso & (fujidata[\"SPECTYPE\"]==\"QSO\")\n",
        "ax.hist(fujidata[\"Z\"][spec_qso], bins=bins, color=\"red\", alpha=0.5,\n",
        "        label=f\"SPECTYPE=\\\"QSO\\\" ({100*len(fujidata[spec_qso])/n_qso:.1f}%)\")\n",
        "ax.hist(fujidata[\"Z\"][spec_qso], bins=bins, histtype=\"step\", color=\"k\", lw=1)\n",
        "\n",
        "#-- QSO targets classified as stars\n",
        "spec_star = is_qso & (fujidata[\"SPECTYPE\"]==\"STAR\")\n",
        "ax.hist(fujidata[\"Z\"][spec_star], bins=bins, color=\"purple\",\n",
        "        label=f\"SPECTYPE=\\\"STAR\\\" ({100*len(fujidata[spec_star])/n_qso:.1f}%)\")\n",
        "ax.hist(fujidata[\"Z\"][spec_star], bins=bins, histtype=\"step\", color=\"k\", lw=1)\n",
        "\n",
        "ax.hist(fujidata[\"Z\"][is_qso], bins=bins, histtype=\"step\", color=\"black\", lw=2)\n",
        "\n",
        "ax.legend(fontsize=18, markerfirst=False, handletextpad=0.5, frameon=False)\n",
        "\n",
        "ax.set_xlabel(\"Redshift\")\n",
        "ax.set_xlim(-0.1,4.0)\n",
        "ax.set_xticks(np.arange(0,4.1,0.5))\n",
        "ax.set_ylabel(\"N(z)\")\n",
        "ax.ticklabel_format(axis=\"y\", style=\"sci\", scilimits=(0,0))\n",
        "\n",
        "plt.tight_layout()\n"
      ]
    },
    {
      "cell_type": "markdown",
      "id": "a9b96cf9-e45f-4a0a-97f1-d68c0377d1db",
      "metadata": {
        "id": "a9b96cf9-e45f-4a0a-97f1-d68c0377d1db"
      },
      "source": [
        "Of the over 220k QSO targets in the catalog, only 38% are actually classified as quasars (red histogram) by Redrock. Nearly 46% are classified as galaxies (black hatched histogram), and the remaining 16% as stars (purple histogram at $z\\sim0$). The abrupt drop in $N(z)$ at $z=1.7$ reflects the fact that Redrock is constrained to fit redshifts $z<1.7$ to spectra it classifies as galaxies.\n",
        "\n",
        "<a class=\"anchor\" id=\"counts_target_survey\"></a>\n",
        "## Target counts by target type and survey\n"
      ]
    },
    {
      "cell_type": "code",
      "execution_count": null,
      "id": "c355bc92-ad16-480b-8f1b-fbd7847af415",
      "metadata": {
        "tags": [],
        "id": "c355bc92-ad16-480b-8f1b-fbd7847af415"
      },
      "outputs": [],
      "source": [
        "#-- BGS\n",
        "is_bgs_sv1 = (fujidata[\"SV1_DESI_TARGET\"] & bgs_tgtmask != 0)\n",
        "is_bgs_sv2 = (fujidata[\"SV2_DESI_TARGET\"] & bgs_tgtmask != 0)\n",
        "is_bgs_sv3 = (fujidata[\"SV3_DESI_TARGET\"] & bgs_tgtmask != 0)\n",
        "is_bgs_sv  = is_bgs_sv1 | is_bgs_sv2 | is_bgs_sv3\n",
        "\n",
        "#-- LRG\n",
        "is_lrg_sv1 = (fujidata[\"SV1_DESI_TARGET\"] & lrg_tgtmask != 0)\n",
        "is_lrg_sv2 = (fujidata[\"SV2_DESI_TARGET\"] & lrg_tgtmask != 0)\n",
        "is_lrg_sv3 = (fujidata[\"SV3_DESI_TARGET\"] & lrg_tgtmask != 0)\n",
        "is_lrg_sv  = is_lrg_sv1 | is_lrg_sv2 | is_lrg_sv3\n",
        "\n",
        "#-- ELG\n",
        "is_elg_sv1 = (fujidata[\"SV1_DESI_TARGET\"] & elg_tgtmask != 0)\n",
        "is_elg_sv2 = (fujidata[\"SV2_DESI_TARGET\"] & elg_tgtmask != 0)\n",
        "is_elg_sv3 = (fujidata[\"SV3_DESI_TARGET\"] & elg_tgtmask != 0)\n",
        "is_elg_sv  = is_elg_sv1 | is_elg_sv2 | is_elg_sv3\n",
        "\n",
        "#-- QSO\n",
        "is_qso_sv1 = (fujidata[\"SV1_DESI_TARGET\"] & qso_tgtmask != 0)\n",
        "is_qso_sv2 = (fujidata[\"SV2_DESI_TARGET\"] & qso_tgtmask != 0)\n",
        "is_qso_sv3 = (fujidata[\"SV3_DESI_TARGET\"] & qso_tgtmask != 0)\n",
        "is_qso_sv  = is_qso_sv1 | is_qso_sv2 | is_qso_sv3\n",
        "\n",
        "#-- Milky Way\n",
        "is_mws_sv1 = (fujidata[\"SV1_DESI_TARGET\"] & mws_tgtmask != 0)\n",
        "is_mws_sv2 = (fujidata[\"SV2_DESI_TARGET\"] & mws_tgtmask != 0)\n",
        "is_mws_sv3 = (fujidata[\"SV3_DESI_TARGET\"] & mws_tgtmask != 0)\n",
        "is_mws_sv  = is_mws_sv1 | is_mws_sv2 | is_mws_sv3\n",
        "\n",
        "#-- secondary\n",
        "is_scnd_sv1 = (fujidata[\"SV1_DESI_TARGET\"] & scnd_tgtmask != 0)\n",
        "is_scnd_sv2 = (fujidata[\"SV2_DESI_TARGET\"] & scnd_tgtmask != 0)\n",
        "is_scnd_sv3 = (fujidata[\"SV3_DESI_TARGET\"] & scnd_tgtmask != 0)\n",
        "is_scnd_sv  = is_scnd_sv1 | is_scnd_sv2 | is_scnd_sv3\n"
      ]
    },
    {
      "cell_type": "code",
      "execution_count": null,
      "id": "d73bfee0-639b-420b-87a6-8187e2937782",
      "metadata": {
        "id": "d73bfee0-639b-420b-87a6-8187e2937782"
      },
      "outputs": [],
      "source": [
        "print(\"BGS    SV:{0:8}\\n   Not SV:{1:8}\\n\".format(np.count_nonzero(is_bgs_sv), np.count_nonzero(is_bgs & ~is_bgs_sv) ))\n",
        "print(\"LRG    SV:{0:8}\\n   Not SV:{1:8}\\n\".format(np.count_nonzero(is_lrg_sv), np.count_nonzero(is_lrg & ~is_lrg_sv) ))\n",
        "\n",
        "print(\"ELG    SV:{0:8}\\n   Not SV:{1:8}\\n\".format(np.count_nonzero(is_elg_sv), np.count_nonzero(is_elg & ~is_elg_sv) ))\n",
        "print(\"QSO    SV:{0:8}\\n   Not SV:{1:8}\\n\".format(np.count_nonzero(is_qso_sv), np.count_nonzero(is_qso & ~is_qso_sv) ))\n",
        "\n",
        "print(\"MWS    SV:{0:8}\\n   Not SV:{1:8}\\n\".format(np.count_nonzero(is_mws_sv), np.count_nonzero(is_mws & ~is_mws_sv) ))\n",
        "print(\"SCND   SV:{0:8}\\n   Not SV:{1:8}\\n\".format(np.count_nonzero(is_scnd_sv), np.count_nonzero(is_scnd & ~is_scnd_sv) ))"
      ]
    },
    {
      "cell_type": "markdown",
      "id": "6c36cec1-58a0-4bc0-a61e-a3a1f677fab3",
      "metadata": {
        "id": "6c36cec1-58a0-4bc0-a61e-a3a1f677fab3"
      },
      "source": [
        "<a class=\"anchor\" id=\"multispec\"></a>\n",
        "## Targets with multiple spectra\n",
        "\n",
        "As shown in the plot below, the vast majority of targets in the combined catalog have only one spectrum. About 3% of targets have two spectra, and only a few thousand have three, four, or five (the maximum).\n",
        "\n",
        "Note that these numbers will be slightly different depending on whether the bad fiber quality cut has been applied to the combined catalog. If spectra associated with bad fibers are removed *after* `ZCAT_NSPEC` has been computed and added to the catalog, then some targets with `ZCAT_NSPEC`$\\,=x$ (where $x>1$) may appear in the catalog fewer than $x$ times.\n"
      ]
    },
    {
      "cell_type": "code",
      "execution_count": null,
      "id": "209607d8-1f70-4c88-b99a-3b3a8197fc31",
      "metadata": {
        "id": "209607d8-1f70-4c88-b99a-3b3a8197fc31"
      },
      "outputs": [],
      "source": [
        "fig, ax = plt.subplots(1, 1, figsize=(8,6))\n",
        "\n",
        "freq, hist = np.array(np.unique(fujidata[\"ZCAT_NSPEC\"], return_counts=True))\n",
        "hist  = ( hist / np.arange(1,np.max(freq)+1) ).astype(int)\n",
        "n_tot = sum(hist)\n",
        "ax.bar(freq, hist, color=\"purple\", alpha=0.4)\n",
        "\n",
        "ax.set_xlabel(\"Number of spectra per target\")\n",
        "ax.set_xlim(0.4,5.6)\n",
        "ax.set_ylabel(\"Number of unique targets\")\n",
        "ax.set_ylim(1e1,1e8)\n",
        "ax.semilogy()\n",
        "\n",
        "round_to = [1,1,2,2,3]\n",
        "pct = [f\"{np.round( 100*hist[i]/n_tot, round_to[i] )}\" for i in range(len(round_to))]\n",
        "\n",
        "for i in range(len(round_to)):\n",
        "    ax.text(freq[i], hist[i], f\"{hist[i]}\\n({pct[i]}%)\", ha=\"center\", va=\"bottom\", fontsize=18)\n",
        "\n",
        "plt.tight_layout()\n",
        "plt.show()\n"
      ]
    },
    {
      "cell_type": "markdown",
      "id": "cd7e227f-9644-49f2-94a5-458d17650daf",
      "metadata": {
        "id": "cd7e227f-9644-49f2-94a5-458d17650daf"
      },
      "source": [
        "#### Below we'll look more closely at the targets with five spectra\n"
      ]
    },
    {
      "cell_type": "code",
      "execution_count": null,
      "id": "f5fefcaa-1950-48ec-a6fd-3b895d0b3eac",
      "metadata": {
        "id": "f5fefcaa-1950-48ec-a6fd-3b895d0b3eac"
      },
      "outputs": [],
      "source": [
        "#-- get all targets with NSPEC=5\n",
        "t_fivespec = fujidata[fujidata[\"ZCAT_NSPEC\"]==5]\n",
        "\n",
        "#-- unique TARGETID of each object with five spectra\n",
        "targids = np.unique(t_fivespec[\"TARGETID\"])\n",
        "\n",
        "print(\"\\tTARGETID\\t\\tSPECTYPE of all 5 spectra\")\n",
        "for i,tid in enumerate(targids):\n",
        "    these_spec = t_fivespec[t_fivespec[\"TARGETID\"]==tid]\n",
        "    spectype   = these_spec[\"SPECTYPE\"].data.astype(str)\n",
        "    print(\"{0:3}\\t{1}\\t{2}\".format(i+1, tid, spectype))\n"
      ]
    },
    {
      "cell_type": "markdown",
      "id": "5d086af9-c6c2-428d-9a1f-6557ab6e30e7",
      "metadata": {
        "id": "5d086af9-c6c2-428d-9a1f-6557ab6e30e7"
      },
      "source": [
        "Most of the targets with five spectra have been flagged as stars by Redrock. One object (12 above) has four spectra flagged as a star, but the fifth classification is a galaxy. Let's look more closely at this object.\n",
        "\n",
        "<a class=\"anchor\" id=\"spectype_diff\"></a>\n",
        "### Targets with multiple `SPECTYPE` classifications\n"
      ]
    },
    {
      "cell_type": "code",
      "execution_count": null,
      "id": "25d6e3de-24fa-47d1-8fdb-b0b973c8f012",
      "metadata": {
        "id": "25d6e3de-24fa-47d1-8fdb-b0b973c8f012"
      },
      "outputs": [],
      "source": [
        "#-- get the data for all observations of this TARGETID\n",
        "special_ID = 39627835576420141\n",
        "these_spec = t_fivespec[ t_fivespec[\"TARGETID\"]==special_ID]\n",
        "\n",
        "#-- get the SURVEY, PROGRAM, SPECTYPE, and redshift values for each of the five spectra of this object\n",
        "survey   = these_spec[\"SURVEY\"].data.astype(str)\n",
        "program  = these_spec[\"PROGRAM\"].data.astype(str)\n",
        "redshift = np.round(these_spec[\"Z\"].data,5)\n",
        "spectype = these_spec[\"SPECTYPE\"].data.astype(str)\n",
        "\n",
        "print(\"\\tSURVEY  PROGRAM  SPECTYPE  REDSHIFT\")\n",
        "for i in range(5):\n",
        "    print(\"{0:1}/5\\t{1:7} {2:8} {3:8} {4:8}\".format(i+1, survey[i], program[i], spectype[i], redshift[i]))\n"
      ]
    },
    {
      "cell_type": "markdown",
      "id": "6342ad54-c3a0-42e3-af79-25748af53193",
      "metadata": {
        "id": "6342ad54-c3a0-42e3-af79-25748af53193"
      },
      "source": [
        "The four spectra classified as `STAR` have $z\\sim0$, while the redshift of the spectrum with the `GALAXY` classification is $z\\sim0.316$. Let's plot several of these spectra to invesitgate the different in `SPECTYPE` classification and redshift measurement.\n",
        "\n",
        "The `get_spec_data` function defined below is a convenience function to load the relevant data for plotting the spectrum for a given `TARGETID`, `SURVEY`, and `PROGRAM`. We will use it to load different spectra of the same object."
      ]
    },
    {
      "cell_type": "code",
      "execution_count": null,
      "id": "a7695f69-7c06-40e2-85dd-317e1f6551f6",
      "metadata": {
        "id": "a7695f69-7c06-40e2-85dd-317e1f6551f6"
      },
      "outputs": [],
      "source": [
        "def get_spec_data_url(tid, survey=None, program=None):\n",
        "    #-- the index of the specific target can be uniquely determined with the combination of TARGETID, SURVEY, and PROGRAM\n",
        "    idx = np.where( (fujidata[\"TARGETID\"]==tid) & (fujidata[\"SURVEY\"]==survey) & (fujidata[\"PROGRAM\"]==program) )[0][0]\n",
        "\n",
        "    #-- healpix values are integers but are converted here into a string for easier access to the file path\n",
        "    hpx = fujidata[\"HEALPIX\"].astype(str)\n",
        "\n",
        "    if \"sv\" in survey:\n",
        "        specprod = \"fuji\"\n",
        "\n",
        "    specprod_url = f\"https://data.desi.lbl.gov/public/edr/spectro/redux/{specprod}\"\n",
        "    target_dir   = f\"/healpix/{survey}/{program}/{hpx[idx][:-2]}/{hpx[idx]}/\"\n",
        "    coadd_fname  = f\"coadd-{survey}-{program}-{hpx[idx]}.fits\"\n",
        "\n",
        "    #Download the spectra file to the drive directory mantaining the same structure directory\n",
        "    if not os.path.exists(desiedr_path+'/fuji'+target_dir):\n",
        "      os.makedirs(specprod_dir+target_dir)\n",
        "\n",
        "    url_file = specprod_url+target_dir+coadd_fname\n",
        "    local_file=specprod_dir+target_dir+coadd_fname\n",
        "    if not os.path.exists(local_file):\n",
        "        print(\"downloading coadd file from %s to %s\"\n",
        "              % (url_file, local_file))\n",
        "        tmp = urllib.request.urlretrieve(url_file, local_file)\n",
        "    else:\n",
        "        print('%s present on disk. '%(local_file))\n",
        "    #-- read in the spectra with desispec\n",
        "    coadd_obj  = desispec.io.read_spectra(local_file)\n",
        "    coadd_tgts = coadd_obj.target_ids().data\n",
        "\n",
        "    #-- select the spectrum of  targetid\n",
        "    row = ( coadd_tgts==fujidata[\"TARGETID\"][idx] )\n",
        "    coadd_spec = coadd_obj[row]\n",
        "\n",
        "    return coadd_spec\n"
      ]
    },
    {
      "cell_type": "code",
      "execution_count": null,
      "id": "3875ff36-cd91-4103-abe9-5f7025969df2",
      "metadata": {
        "id": "3875ff36-cd91-4103-abe9-5f7025969df2"
      },
      "outputs": [],
      "source": [
        "#-- get the third, fourth, and fifth spectra for this object\n",
        "\n",
        "tid = special_ID #-- TARGETID\n",
        "\n",
        "#-- 3/5 above; SPECTYPE = STAR\n",
        "sv1_other_star = get_spec_data_url(tid, survey=\"sv1\", program=\"other\")\n",
        "\n",
        "#-- 4/5 above; SPECTYPE = STAR\n",
        "sv3_bright_star = get_spec_data_url(tid, survey=\"sv3\", program=\"bright\")\n",
        "\n",
        "#-- 5/5 above; SPECTYPE = GALAXY\n",
        "sv3_dark_gal = get_spec_data_url(tid, survey=\"sv3\", program=\"dark\")\n"
      ]
    },
    {
      "cell_type": "code",
      "execution_count": null,
      "id": "f563ebf6-df04-4751-a101-8060cba30f7a",
      "metadata": {
        "id": "f563ebf6-df04-4751-a101-8060cba30f7a"
      },
      "outputs": [],
      "source": [
        "#-- plot the spectra\n",
        "\n",
        "fig, ax = plt.subplots(1, 1, figsize=(18,6))\n",
        "\n",
        "ax.set_xlim(3500, 9900)\n",
        "ax.set_xlabel(r\"wavelength $\\lambda\\ \\left[ \\AA \\right]$\")\n",
        "ax.set_ylim(-2, 44)\n",
        "ax.set_ylabel(r\"$F_{\\lambda}\\ \\left[ 10^{-17}\\ {\\rm erg\\ s}^{-1}\\ {\\rm cm}^{-2}\\ \\AA^{-1} \\right]$\")\n",
        "\n",
        "spectra = ( sv1_other_star, sv3_dark_gal, sv3_bright_star )\n",
        "zwarn   = (0,0,1570)\n",
        "coaddfs = (0,0,0)\n",
        "for PROG,ST,spec,color,zw,cfs in zip( (\"OTHER\",\"DARK\",\"BRIGHT\"), (\"STAR\",\"GALAXY\",\"STAR\"), spectra, (\"k\",\"orange\",\"magenta\"), zwarn, coaddfs ):\n",
        "    for band in (\"b\",\"r\",\"z\"):\n",
        "        label = f\"PROG={PROG} | SPECTYPE={ST} | COADD_FIBERSTATUS={cfs} | ZWARN={zw}\" if band==\"b\" else \"\"\n",
        "        ax.plot(spec.wave[band], convolve(spec.flux[band][0], Gaussian1DKernel(5)), label=label, color=color, lw=2)\n",
        "\n",
        "ax.text(3600, 39, f\"TARGETID = {tid}\", ha=\"left\", va=\"bottom\")\n",
        "ax.legend(markerfirst=False, fontsize=18, handletextpad=0.5, frameon=False)\n",
        "\n",
        "#-- annotations\n",
        "ax.text(5800, 10, r\"$\\leftarrow$\" + \"arm overlap (not absorption)\" + r\"$\\rightarrow$\", ha=\"left\", va=\"bottom\", fontsize=19, color=\"red\", rotation=350)\n",
        "ax.text(4800, 34, r\"$\\downarrow$\", ha=\"left\", va=\"bottom\", fontsize=24, color=\"red\")\n",
        "ax.text(6500, 23, r\"$\\downarrow$\", ha=\"left\", va=\"bottom\", fontsize=24, color=\"red\")\n",
        "ax.text(4920, 36, \"absorption line\", ha=\"left\", va=\"bottom\", fontsize=19, color=\"red\")\n",
        "ax.text(6620, 25, \"absorption line\", ha=\"left\", va=\"bottom\", fontsize=19, color=\"red\")\n",
        "\n",
        "plt.tight_layout()"
      ]
    },
    {
      "cell_type": "markdown",
      "id": "1575379c-fd32-4439-afba-e814d1b40b5d",
      "metadata": {
        "id": "1575379c-fd32-4439-afba-e814d1b40b5d"
      },
      "source": [
        "The SV1 dark time spectrum (black line) is clearly a stellar spectrum and correctly classified by Redrock, while the shape of the SV3 \"other\" program spectrum (orange line) is somewhat ambiguous. It is not surpising that this spectrum was misclassified as a galaxy. The SV3 bright time spectrum (magenta line) obviously has no flux data, and it is not immediately clear why it was classified as a stellar spectrum. Below we'll look at additional columns for these spectra.\n"
      ]
    },
    {
      "cell_type": "code",
      "execution_count": null,
      "id": "7043161b-1323-4873-932e-66cacaf05bd5",
      "metadata": {
        "id": "7043161b-1323-4873-932e-66cacaf05bd5"
      },
      "outputs": [],
      "source": [
        "#-- show all data columns for the five spectra for this target\n",
        "\n",
        "t_fivespec[ t_fivespec[\"TARGETID\"]==tid ].show_in_notebook()\n"
      ]
    },
    {
      "cell_type": "markdown",
      "id": "ba61698b-080f-427f-a5a9-fe7eb556c478",
      "metadata": {
        "id": "ba61698b-080f-427f-a5a9-fe7eb556c478"
      },
      "source": [
        "Looking at all the columns for these five spectra, we can see that all five have `COADD_FIBERSTATUS=0` (i.e., no bad fiber warning). However, the spectrum with no flux (4/5) has `ZWARN=1570`, while the other (good) spectra all have `ZWARN=0`. Scroll to the final column (`ZCAT_PRIMARY`) and we'll see that the third spectra (black line in the above plot) is the primary spectrum for this target.\n",
        "\n",
        "<a class=\"anchor\" id=\"bright_dark\"></a>\n",
        "### `BRIGHT` versus `DARK` program spectra of the same target\n",
        "\n",
        "Now we'll look more closely at the `SURVEY`, `PROGRAM`, and redshift values of 34 targets with five spectra."
      ]
    },
    {
      "cell_type": "code",
      "execution_count": null,
      "id": "debdc01a-3472-47a7-ae82-e0cb22867ada",
      "metadata": {
        "id": "debdc01a-3472-47a7-ae82-e0cb22867ada"
      },
      "outputs": [],
      "source": [
        "for tid in targids[:34]:\n",
        "    these_spec = t_fivespec[t_fivespec[\"TARGETID\"]==tid]\n",
        "    survey   = these_spec[\"SURVEY\"].data.astype(str)\n",
        "    program  = these_spec[\"PROGRAM\"].data.astype(str)\n",
        "    redshift = these_spec[\"Z\"].data\n",
        "    spectype = these_spec[\"SPECTYPE\"].data.astype(str)\n",
        "\n",
        "    print(f\"TARGETID = {tid}\")\n",
        "    print(\"    Survey  \\t{0}\\t{1}\\t{2}\\t{3}\\t{4}\".format(*survey))\n",
        "    print(\"    Program \\t{0}\\t{1}\\t{2}\\t{3}\\t{4}\".format(*program))\n",
        "    print(\"    Redshift\\t{0:.4f}\\t{1:.4f}\\t{2:.4f}\\t{3:.4f}\\t{4:.4f}\".format(*redshift))\n",
        "    print(\"    Spectype \\t{0}\\t{1}\\t{2}\\t{3}\\t{4}\\n\".format(*spectype))"
      ]
    },
    {
      "cell_type": "markdown",
      "id": "66266337-20dc-4c2f-804e-c31e8cb76af8",
      "metadata": {
        "id": "66266337-20dc-4c2f-804e-c31e8cb76af8"
      },
      "source": [
        "Each of these targets was observed three times during SV1 and twice during SV3 (once each during the bright and dark programs).\n",
        "\n",
        "Below we compare the dark and bright time spectra of this object from SV3. The top panel shows the smoothed bright time spectrum in magenta against the smoothed dark time spectrum in black. The middle and bottom panels show the bright and dark time spectra, respectively, smoothed in black, as well as the flux from each arm (*B*, *R*, and *Z*) shown in blue, green, and red. As expected, the bright time spectrum is clearly nosier than the dark time."
      ]
    },
    {
      "cell_type": "code",
      "execution_count": null,
      "id": "d2fd0e60-df10-4ccb-8c6e-61a38d456284",
      "metadata": {
        "id": "d2fd0e60-df10-4ccb-8c6e-61a38d456284"
      },
      "outputs": [],
      "source": [
        "#-- get two spectra for this object (first of the 34 galaxies with five spectra)\n",
        "\n",
        "tid = targids[0] #-- TARGETID\n",
        "\n",
        "#-- get the DARK TIME spectrum\n",
        "spec_dark = get_spec_data_url(tid, survey=\"sv3\", program=\"dark\")\n",
        "\n",
        "#-- get the BRIGHT TIME spectrum\n",
        "spec_bright = get_spec_data_url(tid, survey=\"sv3\", program=\"bright\")\n"
      ]
    },
    {
      "cell_type": "code",
      "execution_count": null,
      "id": "900e435a-f3e4-4fcb-a673-2d8e3ad6438e",
      "metadata": {
        "id": "900e435a-f3e4-4fcb-a673-2d8e3ad6438e"
      },
      "outputs": [],
      "source": [
        "#-- plot the spectra\n",
        "\n",
        "fig, axes = plt.subplots(3, 1, figsize=(18,15), sharex=True, sharey=True)\n",
        "\n",
        "for ax in axes:\n",
        "    ax.set_xlim(3500, 9900)\n",
        "    ax.set_ylim(-3.9, 30)  #-- change depending on specific spectrum\n",
        "    ax.set_ylabel(r\"$F_{\\lambda}\\ \\left[ 10^{-17}\\ {\\rm erg\\ s}^{-1}\\ {\\rm cm}^{-2}\\ \\AA^{-1} \\right]$\")\n",
        "\n",
        "axes[-1].set_xlabel(r\"wavelength $\\lambda\\ \\left[ \\AA \\right]$\")\n",
        "\n",
        "#-- plot the BRIGHT TIME and DARK TIME spectra (both smoothed) on the same axis\n",
        "for band in (\"b\",\"r\",\"z\"):\n",
        "    if band==\"z\":\n",
        "        label_bright = \"PROGRAM = BRIGHT\"\n",
        "        label_dark   = \"PROGRAM = DARK\"\n",
        "    else:\n",
        "        label_bright = label_dark = \"\"\n",
        "    axes[0].plot(spec_bright.wave[band], convolve(spec_bright.flux[band][0], Gaussian1DKernel(5)), color=\"magenta\", label=label_bright)\n",
        "    axes[0].plot(spec_dark.wave[band], convolve(spec_dark.flux[band][0], Gaussian1DKernel(5)), color=\"k\", label=label_dark)\n",
        "axes[0].legend(markerfirst=False, loc=4, handletextpad=0.5, frameon=False)\n",
        "axes[0].text(3600, 0, f\"TARGETID = {tid}\", ha=\"left\", va=\"top\")\n",
        "\n",
        "#-- plot the BRIGHT TIME and DARK TIME spectra at full resolution on separate axes\n",
        "for ax,coadd_spec,prog in zip(axes[1:],(spec_bright,spec_dark),(\"BRIGHT\",\"DARK\")):\n",
        "    ax.text(9800, 2, f\"\\nPROGRAM = {prog.upper()}\", ha=\"right\", va=\"top\")\n",
        "    for band,color in zip((\"b\",\"r\",\"z\"),(\"b\",\"g\",\"r\")):\n",
        "        #-- plot the spectrum from each arm (B,R,Z) in blue, green, red\n",
        "        ax.plot(coadd_spec.wave[band], coadd_spec.flux[band][0], color=color, alpha=0.3)\n",
        "        #-- add smoothed spectrum in black for all the three arms\n",
        "        ax.plot(coadd_spec.wave[band], convolve(coadd_spec.flux[band][0], Gaussian1DKernel(5)), color=\"k\")\n",
        "\n",
        "plt.tight_layout()\n",
        "plt.subplots_adjust(hspace=0.05)"
      ]
    },
    {
      "cell_type": "code",
      "execution_count": null,
      "id": "ec898bd5-b4cd-4a00-9d04-31f64fb16d37",
      "metadata": {
        "id": "ec898bd5-b4cd-4a00-9d04-31f64fb16d37"
      },
      "outputs": [],
      "source": []
    }
  ],
  "metadata": {
    "kernelspec": {
      "display_name": "DESI 23.1",
      "language": "python",
      "name": "desi-23.1"
    },
    "language_info": {
      "codemirror_mode": {
        "name": "ipython",
        "version": 3
      },
      "file_extension": ".py",
      "mimetype": "text/x-python",
      "name": "python",
      "nbconvert_exporter": "python",
      "pygments_lexer": "ipython3",
      "version": "3.10.8"
    },
    "toc-showcode": false,
    "colab": {
      "provenance": [],
      "include_colab_link": true
    }
  },
  "nbformat": 4,
  "nbformat_minor": 5
}