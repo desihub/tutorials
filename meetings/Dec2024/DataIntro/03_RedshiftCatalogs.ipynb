{
 "cells": [
  {
   "cell_type": "markdown",
   "id": "11b863b4-890d-4387-9685-43de493c478a",
   "metadata": {},
   "source": [
    "# DESI Redshift Catalogs\n",
    "\n",
    "This notebook shows a worked example of reading a DESI redshift catalog\n",
    "and making n(z) histograms for each target class."
   ]
  },
  {
   "cell_type": "code",
   "execution_count": 1,
   "id": "39bdc6e9-96b3-44a8-a814-a2bedb738277",
   "metadata": {
    "tags": []
   },
   "outputs": [],
   "source": [
    "# Python and external package imports\n",
    "import os\n",
    "import numpy as np\n",
    "\n",
    "import fitsio\n",
    "from astropy.table import Table\n",
    "import matplotlib.pyplot as plt"
   ]
  },
  {
   "cell_type": "code",
   "execution_count": 2,
   "id": "f09959f0-4577-41a7-9bcd-ccca62d3df27",
   "metadata": {
    "tags": []
   },
   "outputs": [],
   "source": [
    "# DESI-specific imports\n",
    "from desitarget.targets import desi_mask"
   ]
  },
  {
   "cell_type": "markdown",
   "id": "f869d8b8-f599-4d04-852d-e4c4dc9214eb",
   "metadata": {},
   "source": [
    "Remember from `02_DataOrganization.ipynb`, we will define the spectroscopic production directory at the top to make it easier to switch to other productions in the future."
   ]
  },
  {
   "cell_type": "code",
   "execution_count": 3,
   "id": "d404ca18-4976-498d-9fbd-05a9ad09e6e2",
   "metadata": {
    "tags": []
   },
   "outputs": [
    {
     "name": "stdout",
     "output_type": "stream",
     "text": [
      "/dvs_ro/cfs/cdirs/desi/spectro/redux/loa\n"
     ]
    }
   ],
   "source": [
    "specprod = 'loa'    # production name for the final Year 3 (Y3) production\n",
    "desi_root = os.environ['DESI_ROOT']\n",
    "desi_root_ro = os.environ['DESI_ROOT_READONLY']\n",
    "specprod_dir = f'{desi_root_ro}/spectro/redux/{specprod}'\n",
    "print(specprod_dir)"
   ]
  },
  {
   "cell_type": "markdown",
   "id": "5e812ced-c6a5-4520-a4f5-2ed387e4044d",
   "metadata": {},
   "source": [
    "What redshift catalog files are available?"
   ]
  },
  {
   "cell_type": "code",
   "execution_count": 4,
   "id": "0b217768-8500-42c6-bb74-820805847d5a",
   "metadata": {
    "tags": []
   },
   "outputs": [
    {
     "data": {
      "text/plain": [
       "['logs',\n",
       " 'redux_loa_zcatalog_v1.sha256sum',\n",
       " 'zall-pix-loa.fits',\n",
       " 'zall-tilecumulative-loa.fits',\n",
       " 'zpix-cmx-other.fits',\n",
       " 'zpix-main-backup.fits',\n",
       " 'zpix-main-bright.fits',\n",
       " 'zpix-main-dark.fits',\n",
       " 'zpix-special-backup.fits',\n",
       " 'zpix-special-bright.fits',\n",
       " 'zpix-special-dark.fits',\n",
       " 'zpix-sv1-backup.fits',\n",
       " 'zpix-sv1-bright.fits',\n",
       " 'zpix-sv1-dark.fits',\n",
       " 'zpix-sv1-other.fits',\n",
       " 'zpix-sv2-backup.fits',\n",
       " 'zpix-sv2-bright.fits',\n",
       " 'zpix-sv2-dark.fits',\n",
       " 'zpix-sv3-backup.fits',\n",
       " 'zpix-sv3-bright.fits',\n",
       " 'zpix-sv3-dark.fits',\n",
       " 'ztile-cmx-other-cumulative.fits',\n",
       " 'ztile-main-backup-cumulative.fits',\n",
       " 'ztile-main-bright-cumulative.fits',\n",
       " 'ztile-main-dark-cumulative.fits',\n",
       " 'ztile-special-backup-cumulative.fits',\n",
       " 'ztile-special-bright-cumulative.fits',\n",
       " 'ztile-special-dark-cumulative.fits',\n",
       " 'ztile-sv1-backup-cumulative.fits',\n",
       " 'ztile-sv1-bright-cumulative.fits',\n",
       " 'ztile-sv1-dark-cumulative.fits',\n",
       " 'ztile-sv1-other-cumulative.fits',\n",
       " 'ztile-sv2-backup-cumulative.fits',\n",
       " 'ztile-sv2-bright-cumulative.fits',\n",
       " 'ztile-sv2-dark-cumulative.fits',\n",
       " 'ztile-sv3-backup-cumulative.fits',\n",
       " 'ztile-sv3-bright-cumulative.fits',\n",
       " 'ztile-sv3-dark-cumulative.fits']"
      ]
     },
     "execution_count": 4,
     "metadata": {},
     "output_type": "execute_result"
    }
   ],
   "source": [
    "sorted(os.listdir(f'{specprod_dir}/zcatalog/v1'))"
   ]
  },
  {
   "cell_type": "markdown",
   "id": "63d821e8-1572-483b-9092-10e64a050655",
   "metadata": {},
   "source": [
    "For this notebook, we'll use the `zall-pix-{specprod}.fits` file.\n",
    "\n",
    "This file is huge: 48GB in Loa, with 137 columns and 64 million rows.  It is *not* viable to read this with `astropy.table.Table.read` or `astropy.io.fits.read`, since that will blow memory for the Jupyter server if everyone does that.  Instead, see the [datamodel](https://desidatamodel.readthedocs.io/en/latest/DESI_SPECTRO_REDUX/SPECPROD/zcatalog/zpix-SURVEY-PROGRAM.html#hdu1) for what different columns are available, and use `fitsio` to read just the ones you want.\n",
    "\n",
    "Even this can take several minutes."
   ]
  },
  {
   "cell_type": "code",
   "execution_count": 5,
   "id": "2283ea7c-3471-42fb-8518-cf873496fc48",
   "metadata": {
    "tags": []
   },
   "outputs": [
    {
     "name": "stdout",
     "output_type": "stream",
     "text": [
      "Reading /dvs_ro/cfs/cdirs/desi/spectro/redux/loa/zcatalog/v1/zall-pix-loa.fits\n",
      "CPU times: user 37.9 s, sys: 1min 17s, total: 1min 54s\n",
      "Wall time: 7min 19s\n"
     ]
    }
   ],
   "source": [
    "columns = ('TARGETID', 'SURVEY', 'PROGRAM', 'DESI_TARGET', 'Z', 'COADD_FIBERSTATUS', 'ZWARN', 'DELTACHI2', 'MAIN_PRIMARY')\n",
    "zall_file = f'{specprod_dir}/zcatalog/v1/zall-pix-{specprod}.fits'\n",
    "print(f'Reading {zall_file}')\n",
    "%time zcat = fitsio.read(zall_file, 'ZCATALOG', columns=columns)"
   ]
  },
  {
   "cell_type": "code",
   "execution_count": 6,
   "id": "09e25257-1b0b-4bdb-afd0-23ce9946a98a",
   "metadata": {
    "tags": []
   },
   "outputs": [
    {
     "name": "stdout",
     "output_type": "stream",
     "text": [
      "zall-pix-loa.fits has 64100684 targets\n"
     ]
    }
   ],
   "source": [
    "print(f'{os.path.basename(zall_file)} has {len(zcat)} targets')"
   ]
  },
  {
   "cell_type": "code",
   "execution_count": 7,
   "id": "f6cff0ef-8c63-4c2f-9c6f-16f691b7e9ff",
   "metadata": {
    "tags": []
   },
   "outputs": [
    {
     "name": "stdout",
     "output_type": "stream",
     "text": [
      "Keeping 43802945/64100684 targets\n"
     ]
    }
   ],
   "source": [
    "# filter to just main survey targets\n",
    "keep = zcat['SURVEY'] == 'main'\n",
    "\n",
    "# additionally filter by\n",
    "#   good hardware (COADD_FIBERSTATUS=0)\n",
    "#   good redshift fits (ZWARN=0)\n",
    "#   higher confidence redshift fits (DELTACHI2>25)\n",
    "keep &= zcat['COADD_FIBERSTATUS'] == 0\n",
    "keep &= zcat['ZWARN'] == 0\n",
    "keep &= zcat['DELTACHI2'] > 25\n",
    "\n",
    "nkeep = np.sum(keep)\n",
    "print(f'Keeping {nkeep}/{len(zcat)} targets')\n",
    "\n",
    "zcat = zcat[keep]"
   ]
  },
  {
   "cell_type": "markdown",
   "id": "7a06790c-1b75-4298-bfd5-0ed645a95031",
   "metadata": {},
   "source": [
    "Now well use the `DESI_TARGET` column to select which targets are ELG, LRG, etc.\n",
    "\n",
    "See https://github.com/desihub/desitarget/blob/main/doc/nb/target-selection-bits-and-bitmasks.ipynb\n",
    "for a tutorial going into more details about target selection masks."
   ]
  },
  {
   "cell_type": "code",
   "execution_count": 8,
   "id": "3dc88ef2-a821-45b7-a8d3-544603d0aec4",
   "metadata": {
    "tags": []
   },
   "outputs": [],
   "source": [
    "isBGS = (zcat['DESI_TARGET'] & desi_mask.BGS_ANY) != 0\n",
    "isLRG = (zcat['DESI_TARGET'] & desi_mask.LRG) != 0\n",
    "isELG = (zcat['DESI_TARGET'] & desi_mask.ELG) != 0\n",
    "isQSO = (zcat['DESI_TARGET'] & desi_mask.QSO) != 0\n",
    "# apologies to MWS stars; they don't fit well on n(z) histograms with other targets..."
   ]
  },
  {
   "cell_type": "code",
   "execution_count": 9,
   "id": "f3847f60-15ae-4a04-b262-6299178a0978",
   "metadata": {
    "tags": []
   },
   "outputs": [
    {
     "data": {
      "text/plain": [
       "Text(0, 0.5, 'QSO')"
      ]
     },
     "execution_count": 9,
     "metadata": {},
     "output_type": "execute_result"
    },
    {
     "data": {
      "image/png": "[encoded data removed]",
      "text/plain": [
       "<Figure size 640x480 with 4 Axes>"
      ]
     },
     "metadata": {},
     "output_type": "display_data"
    }
   ],
   "source": [
    "plt.subplot(411)\n",
    "plt.hist(zcat['Z'][isBGS], 100, (0,5), color='C0')\n",
    "plt.ylabel('BGS')\n",
    "\n",
    "plt.subplot(412)\n",
    "plt.hist(zcat['Z'][isLRG], 100, (0,5), color='C1')\n",
    "plt.ylabel('LRG')\n",
    "\n",
    "plt.subplot(413)\n",
    "plt.hist(zcat['Z'][isLRG], 100, (0,5), color='C2')\n",
    "plt.ylabel('ELG')\n",
    "\n",
    "plt.subplot(414)\n",
    "plt.hist(zcat['Z'][isQSO], 100, (0,5), color='C3')\n",
    "plt.ylabel('QSO')"
   ]
  },
  {
   "cell_type": "markdown",
   "id": "c57ed864-27d6-4d88-abcc-8173f6126e4c",
   "metadata": {},
   "source": [
    "## Alternatives\n",
    "\n",
    "You may have noticed that these files are inconveniently large.  Some alternatives:\n",
    "\n",
    "  * The redshift catalogs are also loaded into a database.  See https://github.com/desihub/tutorials/blob/main/database/spectroscopic-production-database.ipynb for the basic concepts, though that tutorial has not yet been updated for Y3 analysis with Loa.\n",
    "  * NOIRLab provides database and web API access for public releases (need link)"
   ]
  },
  {
   "cell_type": "code",
   "execution_count": null,
   "id": "66babc4c-16de-4534-b4cd-898d4132b2c8",
   "metadata": {},
   "outputs": [],
   "source": []
  }
 ],
 "metadata": {
  "kernelspec": {
   "display_name": "DESI 24.11",
   "language": "python",
   "name": "desi-24.11"
  },
  "language_info": {
   "codemirror_mode": {
    "name": "ipython",
    "version": 3
   },
   "file_extension": ".py",
   "mimetype": "text/x-python",
   "name": "python",
   "nbconvert_exporter": "python",
   "pygments_lexer": "ipython3",
   "version": "3.10.14"
  }
 },
 "nbformat": 4,
 "nbformat_minor": 5
}
