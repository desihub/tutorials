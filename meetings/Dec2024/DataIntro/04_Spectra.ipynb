{
 "cells": [
  {
   "cell_type": "markdown",
   "id": "077b4b8d-118a-47e8-a6b2-d555dd64d265",
   "metadata": {},
   "source": [
    "# DESI Spectra\n",
    "\n",
    "This notebook shows a simple example of reading and plotting DESI spectra.\n",
    "\n",
    "For a more complete tutorial based on Early Data Release (EDR) data, see https://github.com/desihub/tutorials/blob/main/getting_started/intro_to_DESI_EDR_files.ipynb"
   ]
  },
  {
   "cell_type": "code",
   "execution_count": 37,
   "id": "03d525bf-dd59-4501-916f-df26f005d178",
   "metadata": {
    "tags": []
   },
   "outputs": [],
   "source": [
    "# Python and external package imports\n",
    "import os\n",
    "import numpy as np\n",
    "\n",
    "import fitsio\n",
    "from astropy.table import Table\n",
    "from astropy.io import fits\n",
    "import matplotlib.pyplot as plt\n",
    "\n",
    "from astropy.convolution import convolve, Gaussian1DKernel"
   ]
  },
  {
   "cell_type": "code",
   "execution_count": 2,
   "id": "0b83ab9b-b787-41d1-b84b-5ac296aecd14",
   "metadata": {
    "tags": []
   },
   "outputs": [],
   "source": [
    "# DESI-specific imports\n",
    "from desispec.io import read_spectra\n",
    "from desispec.coaddition import coadd, coadd_cameras\n",
    "from desispec.io import findfile"
   ]
  },
  {
   "cell_type": "code",
   "execution_count": 3,
   "id": "225f64e8-4e85-4bc8-ba49-420a65d82239",
   "metadata": {
    "tags": []
   },
   "outputs": [
    {
     "name": "stdout",
     "output_type": "stream",
     "text": [
      "/dvs_ro/cfs/cdirs/desi/spectro/redux/loa\n"
     ]
    }
   ],
   "source": [
    "specprod = 'loa'    # production name for the final Year 3 (Y3) production\n",
    "desi_root = os.environ['DESI_ROOT']\n",
    "desi_root_ro = os.environ['DESI_ROOT_READONLY']\n",
    "specprod_dir = f'{desi_root_ro}/spectro/redux/{specprod}'\n",
    "print(specprod_dir)"
   ]
  },
  {
   "cell_type": "markdown",
   "id": "93fb6d0b-ddd9-4ced-90a3-57a2a44873a0",
   "metadata": {},
   "source": [
    "Since all the directory manipulation to find specific files is a pain,\n",
    "we'll use `desispec.io.findfile`, which also requires us to set `$SPECPROD`."
   ]
  },
  {
   "cell_type": "code",
   "execution_count": 4,
   "id": "a204d014-3b34-483b-b847-bef4612e99e1",
   "metadata": {
    "tags": []
   },
   "outputs": [
    {
     "name": "stdout",
     "output_type": "stream",
     "text": [
      "/dvs_ro/cfs/cdirs/desi/spectro/redux/loa/tiles/cumulative/2196/20210514/coadd-0-2196-thru20210514.fits\n",
      "/dvs_ro/cfs/cdirs/desi/spectro/redux/loa/tiles/cumulative/2196/20210514/redrock-0-2196-thru20210514.fits\n"
     ]
    }
   ],
   "source": [
    "os.environ['SPECPROD'] = specprod\n",
    "\n",
    "tileid = 2196\n",
    "lastnight = 20210514\n",
    "coadd_file = findfile('coadd', tile=tileid, night=lastnight, spectrograph=0, readonly=True)\n",
    "redrock_file = findfile('redrock', tile=tileid, night=lastnight, spectrograph=0, readonly=True)\n",
    "\n",
    "print(coadd_file)\n",
    "print(redrock_file)"
   ]
  },
  {
   "cell_type": "markdown",
   "id": "14586cff-9229-4142-b364-09261e62c9e2",
   "metadata": {},
   "source": [
    "## Read a redrock file and pick good QSO fits"
   ]
  },
  {
   "cell_type": "code",
   "execution_count": 11,
   "id": "ee546021-3711-4886-8ddc-3711825c57aa",
   "metadata": {
    "tags": []
   },
   "outputs": [],
   "source": [
    "rr = Table.read(redrock_file, 'REDSHIFTS')"
   ]
  },
  {
   "cell_type": "code",
   "execution_count": 13,
   "id": "897976fe-ddc4-4684-b75f-07b97b179c4b",
   "metadata": {
    "tags": []
   },
   "outputs": [
    {
     "name": "stdout",
     "output_type": "stream",
     "text": [
      "[  2   5  16  24  27  30  34  37  55  65  70  85  87  92  94  95  96 102\n",
      " 119 120 123 132 138 140 142 145 146 147 151 156 161 175 178 184 194 225\n",
      " 226 230 236 244 246 249 250 258 262 264 269 270 283 284 298 302 304 308\n",
      " 310 333 335 341 344 345 346 352 354 355 362 366 379 383 397 403 412 413\n",
      " 417 425 434 435 437 441 449 460 462 463 467 493 497]\n"
     ]
    }
   ],
   "source": [
    "isQSO = (rr['SPECTYPE'] == 'QSO') & (rr['ZWARN']==0) & (rr['DELTACHI2']>25)\n",
    "qso_indices = np.where(isQSO)[0]\n",
    "print(qso_indices)"
   ]
  },
  {
   "cell_type": "markdown",
   "id": "02b4bfba-0336-4419-bdfa-abf3d791fcf8",
   "metadata": {},
   "source": [
    "## Spectra files format"
   ]
  },
  {
   "cell_type": "code",
   "execution_count": 42,
   "id": "eb806593-5d7d-43fe-ac37-a23497309e6c",
   "metadata": {},
   "outputs": [
    {
     "name": "stdout",
     "output_type": "stream",
     "text": [
      "Filename: /dvs_ro/cfs/cdirs/desi/spectro/redux/loa/tiles/cumulative/2196/20210514/coadd-0-2196-thru20210514.fits\n",
      "No.    Name      Ver    Type      Cards   Dimensions   Format\n",
      "  0  PRIMARY       1 PrimaryHDU      61   ()      \n",
      "  1  FIBERMAP      1 BinTableHDU    315   500R x 82C   [K, I, J, K, J, J, D, D, 22A, E, E, E, E, K, B, 3A, E, E, J, D, J, I, 8A, J, J, 4A, E, E, E, E, E, E, E, E, E, E, E, E, E, E, E, E, E, I, E, E, E, E, K, 2A, E, E, E, E, 1A, K, K, K, K, K, K, D, D, J, I, E, I, I, E, E, E, E, E, E, E, D, E, D, E, D, D, D]   \n",
      "  2  EXP_FIBERMAP    1 BinTableHDU    176   1500R x 29C   [K, J, D, J, J, D, J, D, I, J, K, J, J, E, E, E, D, D, K, D, D, D, D, D, D, D, L, L, L]   \n",
      "  3  B_WAVELENGTH    1 ImageHDU        10   (2751,)   float64   \n",
      "  4  B_FLUX        1 ImageHDU        11   (2751, 500)   float32   \n",
      "  5  B_IVAR        1 ImageHDU        11   (2751, 500)   float32   \n",
      "  6  B_MASK        1 ImageHDU        10   (2751, 500)   int32   \n",
      "  7  B_RESOLUTION    1 ImageHDU        11   (2751, 11, 500)   float32   \n",
      "  8  R_WAVELENGTH    1 ImageHDU        10   (2326,)   float64   \n",
      "  9  R_FLUX        1 ImageHDU        11   (2326, 500)   float32   \n",
      " 10  R_IVAR        1 ImageHDU        11   (2326, 500)   float32   \n",
      " 11  R_MASK        1 ImageHDU        10   (2326, 500)   int32   \n",
      " 12  R_RESOLUTION    1 ImageHDU        11   (2326, 11, 500)   float32   \n",
      " 13  Z_WAVELENGTH    1 ImageHDU        10   (2881,)   float64   \n",
      " 14  Z_FLUX        1 ImageHDU        11   (2881, 500)   float32   \n",
      " 15  Z_IVAR        1 ImageHDU        11   (2881, 500)   float32   \n",
      " 16  Z_MASK        1 ImageHDU        10   (2881, 500)   int32   \n",
      " 17  Z_RESOLUTION    1 ImageHDU        11   (2881, 11, 500)   float32   \n",
      " 18  SCORES        1 BinTableHDU     96   500R x 42C   [K, E, E, E, E, E, E, E, E, E, E, E, E, E, E, E, E, E, E, E, E, E, E, E, E, E, E, E, E, E, E, E, E, E, E, E, E, E, E, E, E, E]   \n"
     ]
    }
   ],
   "source": [
    "fp = fits.open(coadd_file)\n",
    "fp.info()"
   ]
  },
  {
   "cell_type": "markdown",
   "id": "bc8adb3e-db9a-4096-a224-1c6a59cabddf",
   "metadata": {},
   "source": [
    "Spectra files have the following HDUs (Header Data Units):\n",
    "\n",
    "  * FIBERMAP: information about the targets like their fluxes and location on the sky\n",
    "  * EXP_FIBERMAP: information about the targets that is specific to individual exposures, not coadds\n",
    "  * X_WAVELENGTH: wavelength array covered by camera X=B,R,Z\n",
    "  * X_FLUX: flux[spectra,wavelength] for camera X=B,R,Z\n",
    "  * X_IVAR: inverse variance (1/error^2) for flux\n",
    "  * X_MASK: mask of bad pixels for flux, 0=good\n",
    "  * X_RESOLUTION: models intrument resolution, beyond the scope of this tutorial\n",
    "  * SCORES: additional quality information about the spectra"
   ]
  },
  {
   "cell_type": "markdown",
   "id": "172643d1-32fd-4b92-80f8-4d3948954ae8",
   "metadata": {},
   "source": [
    "## Reading DESI spectra with `desispec.io.read_spectra`\n",
    "\n",
    "Although you could read these HDUs individually to contruct spectra, it can be useful\n",
    "to use `desispec.io.read_spectra` to get a `Spectra` object that bundles all of this together."
   ]
  },
  {
   "cell_type": "code",
   "execution_count": 6,
   "id": "57afed2d-6572-49af-8421-94cb43355df7",
   "metadata": {
    "tags": []
   },
   "outputs": [
    {
     "name": "stdout",
     "output_type": "stream",
     "text": [
      "INFO:spectra.py:391:read_spectra: iotime 1.537 sec to read coadd-0-2196-thru20210514.fits at 2024-12-13T10:57:17.012130\n"
     ]
    }
   ],
   "source": [
    "spectra = read_spectra(coadd_file)"
   ]
  },
  {
   "cell_type": "markdown",
   "id": "d73292b1-b362-4dfb-9ef2-1bdbebe275f3",
   "metadata": {},
   "source": [
    "By default, DESI spectra keep the cameras b,r,z separate.\n",
    "This is admittedly somewhat of a pain, but it doesn't lose information by coadding\n",
    "across the camera boundaries.  As a result, the wavelength and flux values are kept per-camera.\n",
    "\n",
    "The wavelength arrays are 1D, shared by all spectra, and the `flux` arrays are 2D spectra x wavelength"
   ]
  },
  {
   "cell_type": "code",
   "execution_count": 7,
   "id": "1784fa98-ea29-48e0-8e6d-4ae0d224ae30",
   "metadata": {
    "tags": []
   },
   "outputs": [
    {
     "data": {
      "text/plain": [
       "dict_keys(['b', 'r', 'z'])"
      ]
     },
     "execution_count": 7,
     "metadata": {},
     "output_type": "execute_result"
    }
   ],
   "source": [
    "spectra.wave.keys()"
   ]
  },
  {
   "cell_type": "code",
   "execution_count": 8,
   "id": "d7da4534-6754-41e2-b6c1-aab0b6750b00",
   "metadata": {
    "tags": []
   },
   "outputs": [
    {
     "data": {
      "text/plain": [
       "dict_keys(['b', 'r', 'z'])"
      ]
     },
     "execution_count": 8,
     "metadata": {},
     "output_type": "execute_result"
    }
   ],
   "source": [
    "spectra.flux.keys()"
   ]
  },
  {
   "cell_type": "code",
   "execution_count": 9,
   "id": "b9da502f-bf71-4d3f-b078-5e7bda685bc3",
   "metadata": {
    "tags": []
   },
   "outputs": [
    {
     "data": {
      "text/plain": [
       "(2751,)"
      ]
     },
     "execution_count": 9,
     "metadata": {},
     "output_type": "execute_result"
    }
   ],
   "source": [
    "spectra.wave['b'].shape"
   ]
  },
  {
   "cell_type": "code",
   "execution_count": 10,
   "id": "3cd1a240-c073-420e-8ef2-cdb956d9fa97",
   "metadata": {
    "tags": []
   },
   "outputs": [
    {
     "data": {
      "text/plain": [
       "(500, 2751)"
      ]
     },
     "execution_count": 10,
     "metadata": {},
     "output_type": "execute_result"
    }
   ],
   "source": [
    "spectra.flux['b'].shape"
   ]
  },
  {
   "cell_type": "code",
   "execution_count": 36,
   "id": "d772f13d-cdff-430e-87c2-85ea977dba0f",
   "metadata": {
    "tags": []
   },
   "outputs": [
    {
     "data": {
      "text/plain": [
       "Text(0, 0.5, 'Flux')"
      ]
     },
     "execution_count": 36,
     "metadata": {},
     "output_type": "execute_result"
    },
    {
     "data": {
      "image/png": "[encoded data removed]",
      "text/plain": [
       "<Figure size 1000x400 with 1 Axes>"
      ]
     },
     "metadata": {},
     "output_type": "display_data"
    }
   ],
   "source": [
    "kernel = Gaussian1DKernel(15)\n",
    "\n",
    "i = qso_indices[2]\n",
    "plt.figure(figsize=(10,4))\n",
    "plt.plot(spectra.wave['b'], spectra.flux['b'][i], lw=0.5, color='C0')\n",
    "plt.plot(spectra.wave['r'], spectra.flux['r'][i], lw=0.5, color='C3')\n",
    "plt.plot(spectra.wave['z'], spectra.flux['z'][i], lw=0.5, color='C4')\n",
    "\n",
    "# plot smoothed spectra for visualization\n",
    "plt.plot(spectra.wave['b'], convolve(spectra.flux['b'][i], kernel, boundary='extend'), color='k')\n",
    "plt.plot(spectra.wave['r'], convolve(spectra.flux['r'][i], kernel, boundary='extend'), color='k')\n",
    "plt.plot(spectra.wave['z'], convolve(spectra.flux['z'][i], kernel, boundary='extend'), color='k')\n",
    "\n",
    "plt.ylim(-5, 10)\n",
    "plt.xlabel('Wavelength')\n",
    "plt.ylabel('Flux')"
   ]
  },
  {
   "cell_type": "markdown",
   "id": "7a00a623-d181-4d1d-8d07-128411c79895",
   "metadata": {},
   "source": [
    "## More info\n",
    "\n",
    "* https://github.com/desihub/tutorials/blob/main/getting_started/intro_to_DESI_EDR_files.ipynb\n",
    "* https://github.com/desihub/tutorials/blob/main/getting_started/SubselectSpectra.ipynb\n"
   ]
  },
  {
   "cell_type": "code",
   "execution_count": null,
   "id": "de240943-e208-4471-bf80-ab8d2db2e740",
   "metadata": {},
   "outputs": [],
   "source": []
  }
 ],
 "metadata": {
  "kernelspec": {
   "display_name": "DESI 24.11",
   "language": "python",
   "name": "desi-24.11"
  },
  "language_info": {
   "codemirror_mode": {
    "name": "ipython",
    "version": 3
   },
   "file_extension": ".py",
   "mimetype": "text/x-python",
   "name": "python",
   "nbconvert_exporter": "python",
   "pygments_lexer": "ipython3",
   "version": "3.10.14"
  }
 },
 "nbformat": 4,
 "nbformat_minor": 5
}
