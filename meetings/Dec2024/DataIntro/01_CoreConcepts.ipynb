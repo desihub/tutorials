{
 "cells": [
  {
   "cell_type": "markdown",
   "id": "7189769a-dc2c-4936-b2b4-f0ebdffff2f7",
   "metadata": {},
   "source": [
    "# Core Concepts"
   ]
  },
  {
   "cell_type": "code",
   "execution_count": 1,
   "id": "5d020cfd-944a-4eed-bb5f-481a442045dc",
   "metadata": {},
   "outputs": [
    {
     "data": {
      "text/html": [
       "<!-- this cell renders tables left aligned instead of centered in the cells -->\n",
       "<style>table {float:left}</style>\n"
      ],
      "text/plain": [
       "<IPython.core.display.HTML object>"
      ]
     },
     "metadata": {},
     "output_type": "display_data"
    }
   ],
   "source": [
    "%%html\n",
    "<!-- this cell renders tables left aligned instead of centered in the cells -->\n",
    "<style>table {float:left}</style>"
   ]
  },
  {
   "cell_type": "markdown",
   "id": "af395972-0c77-42b9-b52e-a23fd33b2647",
   "metadata": {},
   "source": [
    "## SURVEY and PROGRAM\n",
    "\n",
    "DESI observations are organized by\n",
    "  * **SURVEY** = Phases of DESI observations with a common goal, e.g. \"main\" or \"sv1\"\n",
    "  * **PROGRAM** = Subsets of SURVEYs split by observing conditions, e.g. \"dark\" or \"bright\"\n",
    "\n",
    "**Why this matters**: Data processing groups data by SURVEY and PROGRAM on disk,\n",
    "and does not combine data across SURVEY and PROGRAM even if it is the same\n",
    "object on the sky.  This keeps the different scientific goals of DESI\n",
    "independent of each other.  When analyzing DESI data, you need to know what\n",
    "SURVEY and PROGRAM you care about.\n",
    "\n",
    "Primary **SURVEY**s and **PROGRAMS** in DESI are\n",
    "\n",
    "| SURVEY | Purpose |\n",
    "| :---- | :--- |\n",
    "| Survey Validation 1 (sv1) | Tune cuts for target selection; extra high S/N data |\n",
    "| Survey Validation 3 (sv3) | Many overlapping observations to get all targets on a given patch of sky (\"highly complete\") |\n",
    "| Main (main)               | The core cosmology program of DESI |\n",
    "\n",
    "| PROGRAM | Purpose |\n",
    "| :----  | :--- |\n",
    "| dark   | Best observing conditions for faintest targets: ELG, LRG, QSO |\n",
    "| bright | Moon up / poor seeing / poor transparency: BGS, MWS |\n",
    "| backup | Very bad conditions: bright stars |\n",
    "\n"
   ]
  },
  {
   "cell_type": "markdown",
   "id": "0faba066-bb9e-46dc-9e26-206cb741246b",
   "metadata": {},
   "source": [
    "## Tiles and Healpix"
   ]
  },
  {
   "cell_type": "markdown",
   "id": "23be5201-bcf4-4333-982d-fa9e426a1b36",
   "metadata": {},
   "source": [
    "A DESI \"tile\" is a specific pointing of the telescope and fiber positioners to\n",
    "observe a specific set of objects on the sky.  Tiles are associated with a\n",
    "SURVEY and PROGRAM.  Tiles are observed with one more more exposures on\n",
    "one more more nights until they have achieved a consistent signal-to-noise (S/N) goal\n",
    "set by the SURVEY+PROGRAM. Since a single tile cannot observe all the targets on\n",
    "a given patch of sky, the DESI tiles overlap so that if a given target is not observed\n",
    "on one tile, it gets another chance on a future overlapping tile.\n",
    "\n",
    "Some targets are observed on multiple tiles to get more S/N than they would get on\n",
    "a single tile, e.g. Lyman-alpha QSOs at z>2.  In this case we want to coadd data\n",
    "across tiles. Some science studies also want all spectra in a single patch of sky\n",
    "and it would be a pain to have to look up and read N>>1 seperate tile files just to\n",
    "get those spectra.  For these reasons, data processing also groups spectra by\n",
    "\"healpix\", which is a diamond-shaped tesselation of the sky.  All spectra in a given (healpix, survey, program) are grouped together into files and coadded.\n",
    "\n",
    "**Why this matters**: If you want the highest S/N data combined across all observations, you want to use the healpix data.  If you need to track performance vs. time or are working with\n",
    "custom observations on a special tile, you want the tile data.\n",
    "\n",
    "**Digging Deeper**: The [DESI_petal_healpix_rosette](https://github.com/desihub/tutorials/blob/main/getting_started/DESI_petal_healpix_rosette.ipynb) tutorial explores these ideas in more detail including reading and plotting targets grouped by tiles vs. healpix."
   ]
  },
  {
   "cell_type": "markdown",
   "id": "e8a5f986-8b02-4acd-a6ac-78391b9295ac",
   "metadata": {},
   "source": [
    "## Petals, Spectrographs, Cameras, and Fibers\n",
    "\n",
    "The DESI focal plane is divided into 10 separate \"petals\".\n",
    "Each petal has 500 fibers which map to a single \"spectrograph\".\n",
    "The petal number [0-9] is the same as the spectrograph number [0-9]\n",
    "and in practice these are used interchangeably.\n",
    "The `10*500=5000` DESI fibers are mapped to the spectrographs such that\n",
    "```\n",
    "PETAL = SPECTROGRAPH = FIBER//500\n",
    "```\n",
    "\n",
    "Each spectrograph has 3 \"cameras\" which split the light by blue (b), red (r), and near-infrared (z) bands.  These cameras are named by the band+spectrograph, e.g. \"b0\", \"r1\", \"z9\".\n",
    "\n",
    "\n",
    "**Caveat**: if you get involved in hardware operations, there is a different numbering\n",
    "scheme for the hardware spectrographs `smN` developed while they were being manufactured,\n",
    "before they were plugged in to the petals.  Most people do not need to know about this\n",
    "distinction."
   ]
  },
  {
   "cell_type": "markdown",
   "id": "d169df64-af15-4857-ad98-9f26f3ef74b9",
   "metadata": {},
   "source": [
    "## Spectra and Catalogs"
   ]
  },
  {
   "cell_type": "markdown",
   "id": "a86390e1-574a-4660-ab83-5f8b809a1c66",
   "metadata": {},
   "source": [
    "The core DESI data are *spectra*, i.e. flux vs. wavelength.\n",
    "When we measure quantities from spectra like the redshift or the flux in emission lines,\n",
    "these measurements can be grouped in to tables in *catalogs*.  Many analyses can be\n",
    "performed on catalogs generated by others without ever needing to read the much larger spectra files."
   ]
  },
  {
   "cell_type": "markdown",
   "id": "aa994b31-749d-4ba0-8281-c243dbc0da68",
   "metadata": {},
   "source": [
    "## Mountains and spectroscopic productions"
   ]
  },
  {
   "cell_type": "markdown",
   "id": "39ed2f77-9c8f-41ab-bed2-061f1844660b",
   "metadata": {},
   "source": [
    "DESI data processing runs are named after mountains, alphabetically increasing with time.\n",
    "A given mountain or \"spectroscopic production run\" (specprod) represents a self-consistent processing of the data with a set of code tags.\n",
    "\n",
    "Productions are located at NERSC under\n",
    "```\n",
    "/global/cfs/cdirs/desi/spectro/redux/$SPECPROD\n",
    "```\n",
    "\n",
    "It is good practice for all of your scripts and notebooks to set the production directory once at the very top instead of hardcoding e.g. \"kibo\" many places.  This makes it easier to switch from one production to a newer one e.g. \"loa\".  It's even better to reference this to an environment variable $DESI_ROOT (=/global/cfs/cdirs/desi at NERSC) so that you can copy a subset of the data to your laptop or home institution and still have the same scripts work without a bunch of NERSC-specific hardcoded paths.\n",
    "\n",
    "For example:"
   ]
  },
  {
   "cell_type": "code",
   "execution_count": 5,
   "id": "bb80d5a1-7d11-42c9-b6fe-b4ba3a622185",
   "metadata": {},
   "outputs": [
    {
     "name": "stdout",
     "output_type": "stream",
     "text": [
      "Using data in /global/cfs/cdirs/desi/spectro/redux/loa\n"
     ]
    }
   ],
   "source": [
    "import os\n",
    "specprod = 'loa'\n",
    "desi_root = os.environ['DESI_ROOT']\n",
    "datadir = f'{desi_root}/spectro/redux/{specprod}'\n",
    "print(f'Using data in {datadir}')"
   ]
  },
  {
   "cell_type": "markdown",
   "id": "815bf3c5-8f3e-4901-8d72-264c1d6f07e5",
   "metadata": {},
   "source": [
    "If you follow that pattern in all of your notebooks and scripts, it will be much easier to re-run your\n",
    "analysis on future productions."
   ]
  },
  {
   "cell_type": "code",
   "execution_count": null,
   "id": "c36c6c6e-d6b7-4f2d-94f9-894fa65e9391",
   "metadata": {},
   "outputs": [],
   "source": []
  },
  {
   "cell_type": "code",
   "execution_count": null,
   "id": "c4accf96-efc2-4b2c-880a-95bceb2a0244",
   "metadata": {},
   "outputs": [],
   "source": []
  }
 ],
 "metadata": {
  "kernelspec": {
   "display_name": "DESI 24.11",
   "language": "python",
   "name": "desi-24.11"
  },
  "language_info": {
   "codemirror_mode": {
    "name": "ipython",
    "version": 3
   },
   "file_extension": ".py",
   "mimetype": "text/x-python",
   "name": "python",
   "nbconvert_exporter": "python",
   "pygments_lexer": "ipython3",
   "version": "3.10.14"
  }
 },
 "nbformat": 4,
 "nbformat_minor": 5
}
