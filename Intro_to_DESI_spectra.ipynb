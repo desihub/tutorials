{
 "cells": [
  {
   "cell_type": "markdown",
   "metadata": {},
   "source": [
    "# Introduction to DESI Spectra\n",
    "\n",
    "The goal of this notebook is to demonstrate how to read in and manipulate DESI spectra using simulated spectra created as part of a DESI Data Challenge.\n",
    "\n",
    "If you identify any errors or have requests for additional functionality please create a new issue on https://github.com/desihub/tutorials/issues or send a note to desi-data@desi.lbl.gov.\n",
    "\n",
    "Last updated October 2019 using DESI software release 19.9."
   ]
  },
  {
   "cell_type": "markdown",
   "metadata": {},
   "source": [
    "## Getting started\n",
    "\n",
    "### Using NERSC\n",
    "\n",
    "The easiest way to get started is to use the jupyter server at NERSC so that you don't need to\n",
    "install any code or download any data locally.\n",
    "\n",
    "If you need a NERSC account, see https://desi.lbl.gov/trac/wiki/Computing/AccessNersc\n",
    "\n",
    "Then do the one-time jupyter-dev configuration described at https://desi.lbl.gov/trac/wiki/Computing/JupyterAtNERSC\n",
    "\n",
    "From a NERSC command line, checkout a copy of the tutorial code, *e.g.* from cori.nersc.gov\n",
    "```console\n",
    "mkdir -p $HOME/desi/\n",
    "cd $HOME/desi/\n",
    "git clone https://github.com/desihub/tutorials\n",
    "```\n",
    "And then go to https://jupyter-dev.nersc.gov, login, navigate to where you checked out this package (*e.g.* `$HOME/desi/tutorials`), and double-click on `Intro_to_DESI_spectra.ipynb`.\n",
    "\n",
    "This tutorial has been tested using the \"DESI 19.2\" kernel installed at NERSC.  To get an equivalent environment from a cori command line:\n",
    "```console\n",
    "source /global/common/software/desi/desi_environment.sh 19.9\n",
    "```"
   ]
  },
  {
   "cell_type": "markdown",
   "metadata": {},
   "source": [
    "## Import required modules"
   ]
  },
  {
   "cell_type": "code",
   "execution_count": null,
   "metadata": {},
   "outputs": [],
   "source": [
    "import os\n",
    "import numpy as np\n",
    "import healpy as hp\n",
    "from glob import glob\n",
    "import fitsio\n",
    "from collections import defaultdict\n",
    "\n",
    "from desitarget.targetmask import desi_mask\n",
    "import desispec.io\n",
    "\n",
    "import matplotlib.pyplot as plt\n",
    "%pylab inline"
   ]
  },
  {
   "cell_type": "markdown",
   "metadata": {},
   "source": [
    "If you are running locally and any of these fail, \n",
    "you should go back through the [installation instructions]( https://desi.lbl.gov/trac/wiki/Pipeline/GettingStarted/Laptop) and/or email desi-data@desi.lbl.gov if you get stuck.\n",
    "If you are running from jupyter-dev and have problems, double check that your kernel is \"DESI 19.2\"."
   ]
  },
  {
   "cell_type": "markdown",
   "metadata": {},
   "source": [
    "## Environment variables and data\n",
    "\n",
    "Like BOSS, DESI uses environment variables to define the base directories for where to find data.  The below paths are for NERSC, but if you are running locally or want to access a different dataset, change these as needed to wherever your dataset is.\n",
    "\n",
    "Spectro production runs are grouped under `$DESI_SPECTRO_REDUX`, with `$SPECPROD` indicating which run to use, such that the data are under `$DESI_SPECTRO_REDUX/$SPECPROD`.  *e.g.* during operations, official productions will be in `$DESI_SPECTRO_REDUX=/project/projectdirs/desi/spectro/redux` and `$SPECPROD` would be the name for individual data assemblies, *e.g.* `$SPECPROD=DA1`.  In this case, we'll use reference run 19.2 data."
   ]
  },
  {
   "cell_type": "code",
   "execution_count": null,
   "metadata": {},
   "outputs": [],
   "source": [
    "%set_env DESI_SPECTRO_REDUX=/project/projectdirs/desi/datachallenge/reference_runs/19.9/spectro/redux/\n",
    "%set_env SPECPROD=mini"
   ]
  },
  {
   "cell_type": "markdown",
   "metadata": {},
   "source": [
    "`desispec.io.specprod_root` can handle the environment variable path wrangling for you:"
   ]
  },
  {
   "cell_type": "code",
   "execution_count": null,
   "metadata": {},
   "outputs": [],
   "source": [
    "reduxdir = desispec.io.specprod_root()\n",
    "print(reduxdir)"
   ]
  },
  {
   "cell_type": "code",
   "execution_count": null,
   "metadata": {},
   "outputs": [],
   "source": [
    "#- Do check that these are set correctly before proceeding\n",
    "def check_env():\n",
    "    for env in ('DESI_SPECTRO_REDUX', 'SPECPROD'):\n",
    "        if env in os.environ:\n",
    "            print('${}={}'.format(env, os.getenv(env)))\n",
    "        else:\n",
    "            print('Required environment variable {} not set!'.format(env))\n",
    "\n",
    "    reduxdir = desispec.io.specprod_root()\n",
    "    if not os.path.exists(reduxdir):\n",
    "        print(\"ERROR: {} doesn't exist; check $DESI_SPECTRO_REDUX/$SPECPROD\".format(reduxdir))\n",
    "    else:\n",
    "        print('OK: {} exists'.format(reduxdir))\n",
    "\n",
    "check_env()"
   ]
  },
  {
   "cell_type": "markdown",
   "metadata": {},
   "source": [
    "## Data Model for the spectra"
   ]
  },
  {
   "cell_type": "markdown",
   "metadata": {},
   "source": [
    "### Directory structure\n",
    "\n",
    "Spectra from individual exposures are in the `exposures` directory.  But since DESI will take multiple exposures of overlapping tiles, the data from any given target or patch of sky could be spread across multiple files in multiple directories.  To simplify this, the calibrated spectra are repackaged into a `spectra-64` directory, where all spectra for a given healpix on the sky are grouped together.  See an appendix to this tutorial for a quick overview of healpix.\n",
    "\n",
    "The directory structure is: \n",
    "\n",
    "```\n",
    "$DESI_SPECTRO_REDUX/$SPECPROD/spectra-{nside}/{group}/{pix}/*-{nside}-{pix}.fits\n",
    "```\n",
    "\n",
    "where\n",
    "  * `nside` is the healpix nside hierarchy level with a default is\n",
    "    nside=64 corresponding to pixels of 0.84 $deg^2$ with a few thousand targets each.\n",
    "  * `group = nside//100` to avoid having thousands of directories at the same level\n",
    "  * `pix` is the healpixel number using the *nested* scheme.\n",
    "\n",
    "For example for `nside=64` and `pixel=16879`:\n",
    "\n",
    "```\n",
    "$DESI_SPECTRO_REDUX/$SPECTRO/spectra-64/168/16879/spectra-64-16879.fits\n",
    "$DESI_SPECTRO_REDUX/$SPECTRO/spectra-64/168/16879/zbest-64-16879.fits\n",
    "```\n",
    "\n",
    "where the first file contains the spectra and the second file contains information on the best-fit redshifts from the [redrock](https://github.com/desihub/redrock) code.\n",
    "\n",
    "Let's poke around in these directories."
   ]
  },
  {
   "cell_type": "code",
   "execution_count": null,
   "metadata": {},
   "outputs": [],
   "source": [
    "basedir = os.path.join(os.getenv(\"DESI_SPECTRO_REDUX\"),os.getenv(\"SPECPROD\"),\"spectra-64\")\n",
    "subdir = os.listdir(basedir)\n",
    "print(basedir)\n",
    "print(subdir)"
   ]
  },
  {
   "cell_type": "code",
   "execution_count": null,
   "metadata": {},
   "outputs": [],
   "source": [
    "basedir = os.path.join(basedir,subdir[0])\n",
    "subdir = os.listdir(basedir)\n",
    "pixnums = np.array([int(pixnum) for pixnum in subdir])\n",
    "print(basedir)\n",
    "print(subdir)"
   ]
  },
  {
   "cell_type": "code",
   "execution_count": null,
   "metadata": {},
   "outputs": [],
   "source": [
    "basedir = os.path.join(basedir,subdir[0])\n",
    "subdir = os.listdir(basedir)\n",
    "print(basedir)\n",
    "print(subdir)"
   ]
  },
  {
   "cell_type": "markdown",
   "metadata": {},
   "source": [
    "`desispec.io.findfile` provides utility functions for the path wrangling, *e.g.*:"
   ]
  },
  {
   "cell_type": "code",
   "execution_count": null,
   "metadata": {},
   "outputs": [],
   "source": [
    "desispec.io.findfile('spectra', groupname=5302)"
   ]
  },
  {
   "cell_type": "markdown",
   "metadata": {},
   "source": [
    "### spectra file format"
   ]
  },
  {
   "cell_type": "markdown",
   "metadata": {},
   "source": [
    "What about the Data Model for the spectra themselves?"
   ]
  },
  {
   "cell_type": "code",
   "execution_count": null,
   "metadata": {},
   "outputs": [],
   "source": [
    "specfiles = sorted(glob(reduxdir+'/spectra-64/*/*/spectra*.fits'))\n",
    "specfilename = specfiles[2]\n",
    "DM = fitsio.FITS(specfilename)\n",
    "DM"
   ]
  },
  {
   "cell_type": "markdown",
   "metadata": {},
   "source": [
    "HDU 0 is blank.  The others should be used by name, not by number since the order could vary.\n",
    "\n",
    "`FIBERMAP` stores the mapping of the imaging information used to target and place a fiber on the source.\n",
    "\n",
    "The other HDUs contain the wavelength arrays, flux, inverse variance (ivar), mask (0 is good), and spectral resolution data for each of the \"B\", \"R\", and \"Z\" cameras.\n",
    "\n",
    "Let's start by looking at the fibermap."
   ]
  },
  {
   "cell_type": "code",
   "execution_count": null,
   "metadata": {},
   "outputs": [],
   "source": [
    "fm = fitsio.read(specfilename,'FIBERMAP')\n",
    "fm.dtype.descr"
   ]
  },
  {
   "cell_type": "markdown",
   "metadata": {},
   "source": [
    "`TARGETID` is the unique mapping from target information to a fiber. So, if you wanted to look up full imaging information for a spectrum, you can map back to target files using `TARGETID`.\n",
    "\n",
    "Just out of interest, are the RAs and Decs of these objects in the expected HEALPix pixel?"
   ]
  },
  {
   "cell_type": "code",
   "execution_count": null,
   "metadata": {},
   "outputs": [],
   "source": [
    "pixnums = hp.ang2pix(64, fm[\"TARGET_RA\"], fm[\"TARGET_DEC\"], nest=True, lonlat=True)\n",
    "print(np.min(pixnums),np.max(pixnums))\n",
    "print(specfilename)"
   ]
  },
  {
   "cell_type": "markdown",
   "metadata": {},
   "source": [
    "I wonder what (roughly) the entirety of this pixel looks like, as mapped out by sources with spectra:"
   ]
  },
  {
   "cell_type": "code",
   "execution_count": null,
   "metadata": {},
   "outputs": [],
   "source": [
    "plt.plot(fm[\"TARGET_RA\"],fm[\"TARGET_DEC\"],'b.')"
   ]
  },
  {
   "cell_type": "markdown",
   "metadata": {},
   "source": [
    "You can see a different density in different parts of the tiles, due to different overlapping exposures.  Let's repeat, color coding by exposure number."
   ]
  },
  {
   "cell_type": "code",
   "execution_count": null,
   "metadata": {},
   "outputs": [],
   "source": [
    "for expid in set(fm['EXPID']):\n",
    "    ii = (fm['EXPID'] == expid)\n",
    "    print('expid {} includes {} targets'.format(expid, np.count_nonzero(ii)))\n",
    "    plot(fm['TARGET_RA'][ii], fm['TARGET_DEC'][ii], '.')"
   ]
  },
  {
   "cell_type": "markdown",
   "metadata": {},
   "source": [
    "Note that in addition to having multiple tiles, we also have multiple exposures of the same tile resulting in multiple spectra of the same targets."
   ]
  },
  {
   "cell_type": "code",
   "execution_count": null,
   "metadata": {},
   "outputs": [],
   "source": [
    "DM"
   ]
  },
  {
   "cell_type": "markdown",
   "metadata": {},
   "source": [
    "The remaining extensions store the wavelength, flux, inverse variance on the flux, mask and resolution matrix for the B, R and Z arms of the spectrograph. Let's determine the wavelength coverage of each spectrograph:"
   ]
  },
  {
   "cell_type": "code",
   "execution_count": null,
   "metadata": {},
   "outputs": [],
   "source": [
    "bwave = fitsio.read(specfilename, 'B_WAVELENGTH')\n",
    "rwave = fitsio.read(specfilename, 'R_WAVELENGTH')\n",
    "zwave = fitsio.read(specfilename, 'Z_WAVELENGTH')\n",
    "print(\"B coverage: {:.1f} to {:.1f} Angstroms\".format(np.min(bwave),np.max(bwave)))\n",
    "print(\"R coverage: {:.1f} to {:.1f} Angstroms\".format(np.min(rwave),np.max(rwave)))\n",
    "print(\"Z coverage: {:.1f} to {:.1f} Angstroms\".format(np.min(zwave),np.max(zwave)))"
   ]
  },
  {
   "cell_type": "markdown",
   "metadata": {},
   "source": [
    "## Reading in and Displaying spectra"
   ]
  },
  {
   "cell_type": "markdown",
   "metadata": {},
   "source": [
    "Now that we understand the Data Model, let's plot some spectra. To start, let's use the file we've already been manipulating and read in the flux to go with the wavelengths we already have."
   ]
  },
  {
   "cell_type": "code",
   "execution_count": null,
   "metadata": {},
   "outputs": [],
   "source": [
    "bflux = fitsio.read(specfilename,'B_FLUX')\n",
    "rflux = fitsio.read(specfilename,'R_FLUX')\n",
    "zflux = fitsio.read(specfilename,'Z_FLUX')"
   ]
  },
  {
   "cell_type": "markdown",
   "metadata": {},
   "source": [
    "Note that the wavelength arrays are 1-D (every spectrum in the spectral file is mapped to the same binning in wavelength) but the flux array (and flux_ivar, mask etc. arrays) are 2-D, because they contain multiple spectra:"
   ]
  },
  {
   "cell_type": "code",
   "execution_count": null,
   "metadata": {},
   "outputs": [],
   "source": [
    "print(bwave.shape)\n",
    "print(bflux.shape)"
   ]
  },
  {
   "cell_type": "markdown",
   "metadata": {},
   "source": [
    "Let's plot the zeroth spectrum in this file (*i.e.* in this HEALPix grouping):"
   ]
  },
  {
   "cell_type": "code",
   "execution_count": null,
   "metadata": {},
   "outputs": [],
   "source": [
    "spectrum = 0\n",
    "plt.plot(bwave,bflux[spectrum], 'b', alpha=0.5)\n",
    "plt.plot(rwave,rflux[spectrum], 'r', alpha=0.5)\n",
    "plt.plot(zwave,zflux[spectrum], 'k', alpha=0.5)"
   ]
  },
  {
   "cell_type": "markdown",
   "metadata": {},
   "source": [
    "## A DESI-specific spectrum reader\n",
    "\n",
    "Note that, for illustrative purposes, we discussed the Data Model in detail and read in the required files individually from that Data Model. But, the DESI data team has also developed standalone functions in `desispec.io` to facilitate reading in the plethora of information in the spectral files. For example:"
   ]
  },
  {
   "cell_type": "code",
   "execution_count": null,
   "metadata": {},
   "outputs": [],
   "source": [
    "specobj = desispec.io.read_spectra(specfilename)"
   ]
  },
  {
   "cell_type": "markdown",
   "metadata": {},
   "source": [
    "The wavelengths and flux in each band are then available as dictionaries in the `wave` and `flux` attributes:"
   ]
  },
  {
   "cell_type": "code",
   "execution_count": null,
   "metadata": {},
   "outputs": [],
   "source": [
    "specobj.wave"
   ]
  },
  {
   "cell_type": "code",
   "execution_count": null,
   "metadata": {},
   "outputs": [],
   "source": [
    "specobj.flux"
   ]
  },
  {
   "cell_type": "markdown",
   "metadata": {},
   "source": [
    "So, to plot the \"zeroth\" spectrum:"
   ]
  },
  {
   "cell_type": "code",
   "execution_count": null,
   "metadata": {},
   "outputs": [],
   "source": [
    "spectrum = 0\n",
    "plt.plot(specobj.wave[\"b\"],specobj.flux[\"b\"][spectrum],color='b', alpha=0.5)\n",
    "plt.plot(specobj.wave[\"r\"],specobj.flux[\"r\"][spectrum],color='r', alpha=0.5)\n",
    "plt.plot(specobj.wave[\"z\"],specobj.flux[\"z\"][spectrum],color='k', alpha=0.5)"
   ]
  },
  {
   "cell_type": "markdown",
   "metadata": {},
   "source": [
    "which should look very similar to one of the first plots we made earlier in the tutorial. "
   ]
  },
  {
   "cell_type": "markdown",
   "metadata": {},
   "source": [
    "The fibermap information is available as a table in the `fibermap` attribute:"
   ]
  },
  {
   "cell_type": "code",
   "execution_count": null,
   "metadata": {},
   "outputs": [],
   "source": [
    "specobj.fibermap"
   ]
  },
  {
   "cell_type": "markdown",
   "metadata": {},
   "source": [
    "The entries with `TARGETID`=-1 are spectra for which the fiber was not assigned to a target, e.g. because that fiber was broken or because it randomly didn't cover any input targets (this latter case should never happen in the real survey).  There can also be multiple spectra for a single `TARGETID` from multiple exposures so there is a utility function for getting the `TARGETID`s in this file:"
   ]
  },
  {
   "cell_type": "code",
   "execution_count": null,
   "metadata": {},
   "outputs": [],
   "source": [
    "specobj.target_ids()"
   ]
  },
  {
   "cell_type": "markdown",
   "metadata": {},
   "source": [
    "There are also functions for getting the number of spectra and selecting a subset of spectra.  All of the information that could be read in from the different extensions of the spectral file can be retrieved from the `specobj` object. Here's what's available:"
   ]
  },
  {
   "cell_type": "code",
   "execution_count": null,
   "metadata": {},
   "outputs": [],
   "source": [
    "dir(specobj)"
   ]
  },
  {
   "cell_type": "markdown",
   "metadata": {},
   "source": [
    "## Target classes"
   ]
  },
  {
   "cell_type": "markdown",
   "metadata": {},
   "source": [
    "What about if we only want to plot spectra of certain target classes? The targeting information is stored in the `DESI_TARGET`, `BGS_TARGET` and `MWS_TARGET` entries of the fibermap array:"
   ]
  },
  {
   "cell_type": "code",
   "execution_count": null,
   "metadata": {},
   "outputs": [],
   "source": [
    "specobj.fibermap.info"
   ]
  },
  {
   "cell_type": "markdown",
   "metadata": {},
   "source": [
    "and which target corresponds to which targeting bit is stored in the desitarget mask (we imported this near the beginning of the notebook)."
   ]
  },
  {
   "cell_type": "code",
   "execution_count": null,
   "metadata": {},
   "outputs": [],
   "source": [
    "desi_mask"
   ]
  },
  {
   "cell_type": "markdown",
   "metadata": {},
   "source": [
    "Let's find the indexes of all standard F-stars in the spectral file:"
   ]
  },
  {
   "cell_type": "code",
   "execution_count": null,
   "metadata": {},
   "outputs": [],
   "source": [
    "stds = np.where(specobj.fibermap[\"DESI_TARGET\"] & desi_mask.mask(\"STD_FAINT|STD_BRIGHT\"))[0]\n",
    "print(stds)"
   ]
  },
  {
   "cell_type": "markdown",
   "metadata": {},
   "source": [
    "Where were these located on the original plate-fiber mapping?"
   ]
  },
  {
   "cell_type": "code",
   "execution_count": null,
   "metadata": {},
   "outputs": [],
   "source": [
    "fm = specobj.fibermap   #- shorthand\n",
    "plt.plot(fm[\"TARGET_RA\"],fm[\"TARGET_DEC\"],'b.', alpha=0.1)\n",
    "plt.plot(fm[\"TARGET_RA\"][stds],fm[\"TARGET_DEC\"][stds],'kx')"
   ]
  },
  {
   "cell_type": "markdown",
   "metadata": {},
   "source": [
    "Recall that there can be (will be!) more than one spectrum per object"
   ]
  },
  {
   "cell_type": "code",
   "execution_count": null,
   "metadata": {},
   "outputs": [],
   "source": [
    "num_standard_stars = len(set(specobj.fibermap['TARGETID'][stds]))\n",
    "num_stdstar_exposures = np.count_nonzero(stds)\n",
    "print('{} exposures of {} standards'.format(num_stdstar_exposures, num_standard_stars))"
   ]
  },
  {
   "cell_type": "markdown",
   "metadata": {},
   "source": [
    "Let's take a look at the spectra of these standard stars, plotting just the first spectrum from each camera for the first 9 standards."
   ]
  },
  {
   "cell_type": "code",
   "execution_count": null,
   "metadata": {},
   "outputs": [],
   "source": [
    "targetids = list(set(specobj.fibermap['TARGETID'][stds]))\n",
    "figure(figsize=(12,9))\n",
    "for i, tx in enumerate(targetids[0:9]):\n",
    "    subplot(3,3,i+1)\n",
    "    sp = specobj.select(targets=[tx,])\n",
    "    plt.plot(sp.wave['b'], sp.flux['b'][0], 'b-', alpha=0.5)\n",
    "    plt.plot(sp.wave['r'], sp.flux['r'][0], 'r-', alpha=0.5)\n",
    "    plt.plot(sp.wave['z'], sp.flux['z'][0], 'k-', alpha=0.5)\n",
    "    # plt.show()"
   ]
  },
  {
   "cell_type": "markdown",
   "metadata": {},
   "source": [
    "These seem realistic. Let's zoom in on some of the Balmer series for the zeroth standard:"
   ]
  },
  {
   "cell_type": "code",
   "execution_count": null,
   "metadata": {},
   "outputs": [],
   "source": [
    "Balmer = [4102,4341,4861]\n",
    "halfwindow = 50\n",
    "figure(figsize=(4*len(Balmer), 3))\n",
    "for i in range(len(Balmer)):\n",
    "    subplot(1,len(Balmer),i+1)\n",
    "    plt.axis([Balmer[i]-halfwindow,Balmer[i]+halfwindow,0,np.max(bflux[stds[0]])])\n",
    "    plt.plot(bwave,bflux[stds[0]])\n",
    "    # plt.show()"
   ]
  },
  {
   "cell_type": "markdown",
   "metadata": {},
   "source": [
    "## Redshifts"
   ]
  },
  {
   "cell_type": "markdown",
   "metadata": {},
   "source": [
    "The directory from which we took these spectra also contains information on the best-fit redshifts for the spectra from the [redrock](https://github.com/desihub/redrock) code. The first pixel we looked at didn't have very many targets, so we'll pick one with more targets for studying the redshifts."
   ]
  },
  {
   "cell_type": "code",
   "execution_count": null,
   "metadata": {},
   "outputs": [],
   "source": [
    "zfilename = specfilename.replace('spectra-64-', 'zbest-64-')\n",
    "zs = fitsio.read(zfilename)\n",
    "zs.dtype.descr"
   ]
  },
  {
   "cell_type": "markdown",
   "metadata": {},
   "source": [
    "Note that due to repeated observations, there could be a different number of spectra than final redshifts, meaning that there isn't a row-by-row mapping between spectra and redshifts..."
   ]
  },
  {
   "cell_type": "code",
   "execution_count": null,
   "metadata": {},
   "outputs": [],
   "source": [
    "print(zs.shape[0], 'redshifts')\n",
    "print(specobj.num_targets(), 'targets')\n",
    "print(specobj.num_spectra(), 'spectra')\n",
    "print(specobj.flux['b'].shape, 'shape of flux[\"b\"]')"
   ]
  },
  {
   "cell_type": "markdown",
   "metadata": {},
   "source": [
    "...but the `TARGETID` (which *is* intended to be unique) is in this file, too, allowing sources to be uniquely mapped from targeting, to spectra, to redshift. Let's extract all sources that were targeted as quasars using the fibermap information from the spectral file, and plot the first 20:"
   ]
  },
  {
   "cell_type": "code",
   "execution_count": null,
   "metadata": {},
   "outputs": [],
   "source": [
    "qsos = np.where(specobj.fibermap[\"DESI_TARGET\"] & desi_mask[\"QSO\"])[0]\n",
    "print(len(qsos), 'QSOs')\n",
    "plt.figure(figsize=(12,9))\n",
    "for i in range(len(qsos))[0:9]:\n",
    "    plt.subplot(3,3,i+1)\n",
    "    plt.plot(bwave,bflux[qsos[i]],'b', alpha=0.5)\n",
    "    plt.plot(rwave,rflux[qsos[i]],'r', alpha=0.5)\n",
    "    plt.plot(zwave,zflux[qsos[i]],'k', alpha=0.5)\n",
    "    # plt.show()"
   ]
  },
  {
   "cell_type": "markdown",
   "metadata": {},
   "source": [
    "Let's match these quasar targets to the redshift file on `TARGETID` to extract their best-fit redshifts from `redrock`:"
   ]
  },
  {
   "cell_type": "code",
   "execution_count": null,
   "metadata": {},
   "outputs": [],
   "source": [
    "dd = defaultdict(list)\n",
    "for index, item in enumerate(zs[\"TARGETID\"]):\n",
    "    dd[item].append(index)\n",
    "zqsos = [index for item in fm[qsos][\"TARGETID\"] for index in dd[item] if item in dd]"
   ]
  },
  {
   "cell_type": "markdown",
   "metadata": {},
   "source": [
    "That might be hard to follow at first glance, but all I did was use some \"standard\" python syntax to match the indices in `zs` (the ordering of objects in the `redrock` redshift file) to those for quasars in `fm` (the ordering of quasars in the fibermap file), on the unique `TARGETID`, such that the indices stored in `qsos` for `fm` point to the corresponding indices in `zqsos` for `zs`. This might help illustrate the result:"
   ]
  },
  {
   "cell_type": "code",
   "execution_count": null,
   "metadata": {},
   "outputs": [],
   "source": [
    "zs[zqsos][\"TARGETID\"][0:7], fm[qsos][\"TARGETID\"][0:7]"
   ]
  },
  {
   "cell_type": "markdown",
   "metadata": {},
   "source": [
    "Let's see what best-fit template `redrock` assigned to each quasar. This information is stored in the `SPECTYPE` column."
   ]
  },
  {
   "cell_type": "code",
   "execution_count": null,
   "metadata": {},
   "outputs": [],
   "source": [
    "zs[zqsos][\"SPECTYPE\"]"
   ]
  },
  {
   "cell_type": "markdown",
   "metadata": {},
   "source": [
    "Or for standard stars:"
   ]
  },
  {
   "cell_type": "code",
   "execution_count": null,
   "metadata": {},
   "outputs": [],
   "source": [
    "dd = defaultdict(list)\n",
    "for index, item in enumerate(zs[\"TARGETID\"]):\n",
    "    dd[item].append(index)\n",
    "zstds = [index for item in fm[stds][\"TARGETID\"] for index in dd[item] if item in dd]"
   ]
  },
  {
   "cell_type": "markdown",
   "metadata": {},
   "source": [
    "For stars, we can also display the type of star that `redrock` fit (this is stored in the `SUBTYPE` column):"
   ]
  },
  {
   "cell_type": "code",
   "execution_count": null,
   "metadata": {},
   "outputs": [],
   "source": [
    "zipper = zip(zs[zstds][\"SUBTYPE\"],zs[zstds][\"SPECTYPE\"])\n",
    "for sub, spec in zipper:\n",
    "    print(\"{}-{}\".format(sub.decode('utf-8'),spec.decode('utf-8')))"
   ]
  },
  {
   "cell_type": "markdown",
   "metadata": {},
   "source": [
    "(here the conversion to `utf-8` is simply for display purposes because the strings in `SUBTYPE` and `SPECTYPE` are stored as bytes instead of unicode)."
   ]
  },
  {
   "cell_type": "markdown",
   "metadata": {},
   "source": [
    "OK, back to our quasars. Let's plot the quasar targets that *are identified as quasars* , but add a label for the `SPECTYPE` and the redshift fit by `redrock`. I'll also add some median filtering and over-plot some (approximate) typical quasar emission lines at the redrock redshift (if those lines would fall in the DESI wavelength coverage):"
   ]
  },
  {
   "cell_type": "code",
   "execution_count": null,
   "metadata": {},
   "outputs": [],
   "source": [
    "from scipy.signal import medfilt\n",
    "\n",
    "qsoid = np.where(zs[zqsos][\"SPECTYPE\"] == b'QSO')[0]\n",
    "qsolines = np.array([1216,1546,1906,2800,4853,4960,5008])\n",
    "\n",
    "wave = specobj.wave\n",
    "flux = specobj.flux\n",
    "\n",
    "plt.figure(figsize=(12,9))\n",
    "for i in range(len(qsoid))[0:9]:\n",
    "    plt.subplot(3,3,1+i)\n",
    "    spectype = zs[zqsos[qsoid[i]]][\"SPECTYPE\"].decode('utf-8')\n",
    "    z = zs[zqsos[qsoid[i]]][\"Z\"]\n",
    "    plt.plot(wave['b'], medfilt(flux['b'][qsos[qsoid[i]]], 15), 'b', alpha=0.5)\n",
    "    plt.plot(wave['r'], medfilt(flux['r'][qsos[qsoid[i]]], 15), 'r', alpha=0.5)\n",
    "    plt.plot(wave['z'], medfilt(flux['z'][qsos[qsoid[i]]], 15), 'k', alpha=0.5)\n",
    "    plt.title(\"{}, z={:.3f}\".format(spectype,z))\n",
    "    for line in qsolines:\n",
    "        if ((1+z)*line > np.min(bwave)) & ((1+z)*line < np.max(zwave)):\n",
    "            axvline((1+z)*line, color='y', alpha=0.5)"
   ]
  },
  {
   "cell_type": "markdown",
   "metadata": {},
   "source": [
    "## Appendix: code versions used"
   ]
  },
  {
   "cell_type": "code",
   "execution_count": null,
   "metadata": {},
   "outputs": [],
   "source": [
    "from desitutorials import print_code_versions as pcv\n",
    "print(\"This tutorial last ran successfully to completion using the following versions of the following modules:\") \n",
    "pcv()"
   ]
  },
  {
   "cell_type": "markdown",
   "metadata": {},
   "source": [
    "## Appendix: Healpix overview"
   ]
  },
  {
   "cell_type": "markdown",
   "metadata": {},
   "source": [
    "DESI uses healpix for grouping spectra on the sky.  It is somewhat overkill for our needs, but it has a nice nested pixel structure and has good fast libraries for common operations like determining which pixels cover which points on the sky.\n",
    "\n",
    "If you aren't familiar with HEALPix, it is an equal-area splitting of the sphere, where the sphere is initially divided into 12 equal-area pixels, and then each of those pixels is divided into 4 new equal-area pixels as `nside` increases (a quad tree). Schematically, here's how `nside` corresponds to pixel *area* in degrees:"
   ]
  },
  {
   "cell_type": "code",
   "execution_count": null,
   "metadata": {},
   "outputs": [],
   "source": [
    "sphere_area = 4*180.*180./np.pi\n",
    "for i in range(10):\n",
    "    nside = 2**i\n",
    "    npix = 12*nside**2\n",
    "    hpx_area = sphere_area / npix\n",
    "    print(nside, npix, hpx_area)"
   ]
  },
  {
   "cell_type": "markdown",
   "metadata": {},
   "source": [
    "The `nside` at which the example spectra are grouped therefore corresponds to ~0.84 sq. deg. Note that I could have checked this more easily (but less pedagogically) using the useful python [HEALPix](https://healpy.readthedocs.io/en/latest/) library:"
   ]
  },
  {
   "cell_type": "code",
   "execution_count": null,
   "metadata": {},
   "outputs": [],
   "source": [
    "hp.nside2pixarea(64,degrees=True)"
   ]
  },
  {
   "cell_type": "markdown",
   "metadata": {},
   "source": [
    "The spectra are stored in this fashion so that they are grouped (roughly) contiguously on the sky, with a reasonable number of spectra in each directory. It's easy to derive the approximate RA/Dec near each pixel number (note that we sneakily stored the pixel numbers as `pixnums` when we were examining the directory structure):"
   ]
  },
  {
   "cell_type": "code",
   "execution_count": null,
   "metadata": {},
   "outputs": [],
   "source": [
    "ras, decs = hp.pix2ang(64, pixnums, nest=True, lonlat=True)"
   ]
  },
  {
   "cell_type": "markdown",
   "metadata": {},
   "source": [
    "Note that **the DESI Data Model will always use the _NESTED_ scheme for HEALPix**."
   ]
  },
  {
   "cell_type": "code",
   "execution_count": null,
   "metadata": {},
   "outputs": [],
   "source": [
    "zipper = list(zip(pixnums,ras,decs))\n",
    "for pix,ra,dec in zipper[0:10]:\n",
    "    print(\"Pixel(nside=64): {} RA: {} DEC: {}\".format(pix,ra,dec))\n",
    "if len(zipper) > 10:\n",
    "    print('...')"
   ]
  },
  {
   "cell_type": "code",
   "execution_count": null,
   "metadata": {},
   "outputs": [],
   "source": []
  }
 ],
 "metadata": {
  "anaconda-cloud": {},
  "kernelspec": {
   "display_name": "DESI 19.9",
   "language": "python",
   "name": "desi-19.9"
  },
  "language_info": {
   "codemirror_mode": {
    "name": "ipython",
    "version": 3
   },
   "file_extension": ".py",
   "mimetype": "text/x-python",
   "name": "python",
   "nbconvert_exporter": "python",
   "pygments_lexer": "ipython3",
   "version": "3.6.6"
  }
 },
 "nbformat": 4,
 "nbformat_minor": 4
}
