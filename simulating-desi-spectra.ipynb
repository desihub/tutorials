{
 "cells": [
  {
   "cell_type": "markdown",
   "metadata": {},
   "source": [
    "# Simulating DESI Spectra\n",
    "\n",
    "The goal of this notebook is to demonstrate how to generate some simple DESI spectra using the `quickspectra` utility.  For simplicity we will only generate 1D spectra and skip the more computationally intensive (yet still instructive!) step of extracting 1D spectra from simulated 2D spectra (*i.e.*, so-called \"pixel-level simulations\").  In this tutorial we will:\n",
    "\n",
    "* generate 100 random QSO spectra\n",
    "* simulate them under dark time conditions\n",
    "* plot the truth and the noisy simulated spectra\n",
    "* run redshift fitting\n",
    "* re-simulate when the moon is quite bright\n",
    "* re-run redshift fitting\n",
    "* compare redshift performance with and without moon\n",
    "\n",
    "The heart of `quickspectra` is the `SpecSim` package, which you can read about here:  \n",
    "http://specsim.readthedocs.io/en/stable\n",
    "\n",
    "If you identify any errors or have requests for additional functionality please create a new issue on  \n",
    "https://github.com/desihub/desisim/issues\n",
    "or send a note to <desi-data@desi.lbl.gov>."
   ]
  },
  {
   "cell_type": "markdown",
   "metadata": {},
   "source": [
    "## Getting started.\n",
    "\n",
    "See https://desi.lbl.gov/trac/wiki/Computing/JupyterAtNERSC to configure a jupyter server at NERSC with pre-installed DESI code.  This notebook was tested with the \"DESI 19.2\" kernel.\n",
    "\n",
    "Alternately, see https://desi.lbl.gov/trac/wiki/Pipeline/GettingStarted/Laptop for instructions to install code locally.\n",
    "\n",
    "First, import all the package dependencies."
   ]
  },
  {
   "cell_type": "code",
   "execution_count": null,
   "metadata": {},
   "outputs": [],
   "source": [
    "import os\n",
    "import numpy as np\n",
    "\n",
    "from astropy.io import fits\n",
    "from astropy.table import Table"
   ]
  },
  {
   "cell_type": "code",
   "execution_count": null,
   "metadata": {},
   "outputs": [],
   "source": [
    "import desisim.templates\n",
    "import desispec.io"
   ]
  },
  {
   "cell_type": "markdown",
   "metadata": {},
   "source": [
    "This import of `geomask` is a temporary hack to deal with an issue with the matplotlib backend in the 0.28.0 version of `desitarget`."
   ]
  },
  {
   "cell_type": "code",
   "execution_count": null,
   "metadata": {},
   "outputs": [],
   "source": [
    "from desitarget import geomask"
   ]
  },
  {
   "cell_type": "code",
   "execution_count": null,
   "metadata": {},
   "outputs": [],
   "source": [
    "import matplotlib.pyplot as plt\n",
    "%matplotlib inline"
   ]
  },
  {
   "cell_type": "markdown",
   "metadata": {},
   "source": [
    "## Simulate with quickspectra\n",
    "\n",
    "The simplest way to simulate spectra is using the `quickspectra` script.  We'll generate a set of noiseless template spectra, save them to a file, and then run `quickspectra` to simulate noise and write out a file that can be used as input for redshift fitting."
   ]
  },
  {
   "cell_type": "markdown",
   "metadata": {},
   "source": [
    "### Start by simulating some QSO spectra"
   ]
  },
  {
   "cell_type": "code",
   "execution_count": null,
   "metadata": {},
   "outputs": [],
   "source": [
    "qso_maker = desisim.templates.SIMQSO()\n",
    "%time flux, wave, meta, objmeta = qso_maker.make_templates(nmodel=100)                                                "
   ]
  },
  {
   "cell_type": "markdown",
   "metadata": {},
   "source": [
    "What are the outputs?\n",
    "* `flux[nspec, nwave]` 2D array of flux [1e-17 erg/s/cm2/A]\n",
    "* `wave[nwave]` 1D array of observed-frame (vacuum) wavelengths corresponding to `flux`\n",
    "* `meta` table of basic metadata about the targets that's independent of the target type (e.g., redshift).\n",
    "* `objmeta` table of target-specific metadata (e.g., QSO emission-line flux strengths)."
   ]
  },
  {
   "cell_type": "code",
   "execution_count": null,
   "metadata": {},
   "outputs": [],
   "source": [
    "print('flux.shape', flux.shape)\n",
    "print('wave.shape', wave.shape)\n",
    "print('meta.colnames', meta.colnames)\n",
    "print('objmeta.colnames', objmeta.colnames)"
   ]
  },
  {
   "cell_type": "markdown",
   "metadata": {},
   "source": [
    "Note that the (unique) `TARGETID` column can be used to sync up the `meta` and `objmeta` columns when simulating a mixture of target types."
   ]
  },
  {
   "cell_type": "code",
   "execution_count": null,
   "metadata": {},
   "outputs": [],
   "source": [
    "plt.figure(figsize=(9,4))\n",
    "plt.subplot(121)\n",
    "plt.hist(meta['REDSHIFT'], 20, (0,5))\n",
    "plt.xlabel('redshift')\n",
    "\n",
    "plt.subplot(122)\n",
    "mag_g = 22.5 - 2.5 * np.log10(meta['FLUX_G'])\n",
    "plt.hist(mag_g, 20, (15, 25))\n",
    "plt.xlabel('g magnitude')"
   ]
  },
  {
   "cell_type": "markdown",
   "metadata": {},
   "source": [
    "### Write those to a file and run quickspectra"
   ]
  },
  {
   "cell_type": "code",
   "execution_count": null,
   "metadata": {},
   "outputs": [],
   "source": [
    "simdir = os.path.join(os.environ['CSCRATCH'], 'desi', 'simspec')\n",
    "os.makedirs(simdir, exist_ok=True)\n",
    "infile = os.path.join(simdir, 'qso-input-spectra.fits')\n",
    "hdr = fits.Header()\n",
    "hdr['EXTNAME'] = 'WAVELENGTH'\n",
    "hdr['BUNIT'] = 'Angstrom'\n",
    "fits.writeto(infile, wave, header=hdr, overwrite=True)\n",
    "hdr['EXTNAME'] = 'FLUX'\n",
    "hdr['BUNIT'] = '10^-17 erg/(s*cm^2*Angstrom)'  # Satisifes FITS standard AND Astropy-compatible.\n",
    "fits.append(infile, flux, header=hdr)"
   ]
  },
  {
   "cell_type": "code",
   "execution_count": null,
   "metadata": {},
   "outputs": [],
   "source": [
    "specoutfile = os.path.join(simdir, 'qso-observed-spectra.fits')\n",
    "cmd = 'quickspectra -i {} -o {}'.format(infile, specoutfile)\n",
    "print(cmd)\n",
    "!$cmd"
   ]
  },
  {
   "cell_type": "markdown",
   "metadata": {},
   "source": [
    "### Let's see what we got"
   ]
  },
  {
   "cell_type": "code",
   "execution_count": null,
   "metadata": {},
   "outputs": [],
   "source": [
    "spectra = desispec.io.read_spectra(specoutfile)"
   ]
  },
  {
   "cell_type": "code",
   "execution_count": null,
   "metadata": {},
   "outputs": [],
   "source": [
    "from scipy.signal import medfilt\n",
    "def plotspec(spectra, i, truewave=None, trueflux=None, nfilter=11):\n",
    "    plt.plot(spectra.wave['b'], medfilt(spectra.flux['b'][i], nfilter), 'b', alpha=0.5)\n",
    "    plt.plot(spectra.wave['r'], medfilt(spectra.flux['r'][i], nfilter), 'r', alpha=0.5)\n",
    "    plt.plot(spectra.wave['z'], medfilt(spectra.flux['z'][i], nfilter), 'k', alpha=0.5)\n",
    "    if truewave is not None and trueflux is not None:\n",
    "        plt.plot(truewave, trueflux[i], 'k-')\n",
    "\n",
    "    plt.axhline(0, color='k', alpha=0.2)\n",
    "        \n",
    "    ymin = ymax = 0.0\n",
    "    for x in ['b', 'r', 'z']:\n",
    "        tmpmin, tmpmax = np.percentile(spectra.flux['r'][i], [1, 99])\n",
    "        ymin = min(tmpmin, ymin)\n",
    "        ymax = max(tmpmax, ymax)\n",
    "        \n",
    "    plt.ylim(ymin, ymax)\n",
    "    plt.ylabel('flux [1e-17 erg/s/cm2/A]')\n",
    "    plt.xlabel('wavelength [A]')\n",
    "\n",
    "# plotspec(spectra, 0, wave, flux)"
   ]
  },
  {
   "cell_type": "code",
   "execution_count": null,
   "metadata": {},
   "outputs": [],
   "source": [
    "plt.figure(figsize=(12, 9))\n",
    "for i in range(9):\n",
    "    plt.subplot(3, 3, i+1)\n",
    "    plotspec(spectra, i, wave, flux)"
   ]
  },
  {
   "cell_type": "markdown",
   "metadata": {},
   "source": [
    "## Fit redshifts\n",
    "\n",
    "Next we'll run the redrock redshift fitter (`rrdesi`) on these spectra.\n",
    "\n",
    "If at NERSC, run this via an interactive batch node so that we don't abuse the single jupyter server node.\n",
    "\n",
    "**Note**: if this step doesn't work, check your .bashrc.ext,  .bash_profile.ext, or .tcshrc.ext files to see if you are defining\n",
    "an incompatible python / desi version that could be overriding the\n",
    "environment of this notebook after the job is launched."
   ]
  },
  {
   "cell_type": "code",
   "execution_count": null,
   "metadata": {},
   "outputs": [],
   "source": [
    "zoutfile = os.path.join(simdir, 'qso-zbest.fits')\n",
    "cmd = 'rrdesi {} --zbest {}'.format(specoutfile, zoutfile)\n",
    "if 'NERSC_HOST' in os.environ:\n",
    "    print('Running on a batch node:')\n",
    "    print(cmd)\n",
    "    print()\n",
    "    srun = 'srun -A desi -N 1 -t 00:10:00 -C haswell --qos interactive'\n",
    "    cmd = '{srun} {cmd} --mp 32'.format(srun=srun, cmd=cmd)\n",
    "print(cmd)\n",
    "!$cmd"
   ]
  },
  {
   "cell_type": "code",
   "execution_count": null,
   "metadata": {},
   "outputs": [],
   "source": [
    "zbest = Table.read(zoutfile, 'ZBEST')"
   ]
  },
  {
   "cell_type": "code",
   "execution_count": null,
   "metadata": {},
   "outputs": [],
   "source": [
    "plt.plot(meta['REDSHIFT'], zbest['Z'], '.')\n",
    "plt.xlabel('true redshift'); plt.ylabel('fitted redshift')"
   ]
  },
  {
   "cell_type": "markdown",
   "metadata": {},
   "source": [
    "### Re-simulate with the moon up and at a higher airmass"
   ]
  },
  {
   "cell_type": "code",
   "execution_count": null,
   "metadata": {},
   "outputs": [],
   "source": [
    "specoutfile_moon = os.path.join(simdir, 'qso-moon-spectra.fits')\n",
    "cmd = 'quickspectra -i {} -o {} --moonfrac 0.9 --moonalt 70 --moonsep 20 --airmass 1.3'.format(\n",
    "    infile, specoutfile_moon)\n",
    "print(cmd)\n",
    "!$cmd"
   ]
  },
  {
   "cell_type": "code",
   "execution_count": null,
   "metadata": {},
   "outputs": [],
   "source": [
    "zoutfile_moon = os.path.join(simdir, 'qso-zbest-moon.fits')\n",
    "cmd = 'rrdesi {} --zbest {}'.format(specoutfile_moon, zoutfile_moon)\n",
    "if 'NERSC_HOST' in os.environ:\n",
    "    print('Running on a batch node:')\n",
    "    print(cmd)\n",
    "    print()\n",
    "    srun = 'srun -A desi -N 1 -t 00:10:00 -C haswell --qos interactive'\n",
    "    cmd = '{srun} {cmd} --mp 32'.format(srun=srun, cmd=cmd)\n",
    "print(cmd)\n",
    "!$cmd"
   ]
  },
  {
   "cell_type": "code",
   "execution_count": null,
   "metadata": {},
   "outputs": [],
   "source": [
    "zbest_moon = Table.read(zoutfile_moon, 'ZBEST')"
   ]
  },
  {
   "cell_type": "code",
   "execution_count": null,
   "metadata": {},
   "outputs": [],
   "source": [
    "plt.figure(figsize=(9,9))\n",
    "\n",
    "plt.subplot(221)\n",
    "plt.plot(meta['REDSHIFT'], zbest['Z'], '.')\n",
    "plt.ylabel('fitted redshift')\n",
    "plt.title('no moon')\n",
    "\n",
    "plt.subplot(222)\n",
    "plt.plot(meta['REDSHIFT'], zbest_moon['Z'], '.')\n",
    "plt.title('with moon')\n",
    "\n",
    "plt.subplot(223)\n",
    "dv = 3e5*(zbest['Z'] - meta['REDSHIFT'])/(1+meta['REDSHIFT'])\n",
    "plt.plot(meta['REDSHIFT'], dv, '.')\n",
    "plt.ylim(-1000, 1000)\n",
    "plt.ylabel('dv [km/s]')\n",
    "plt.xlabel('true redshift')\n",
    "\n",
    "plt.subplot(224)\n",
    "dv = 3e5*(zbest_moon['Z'] - meta['REDSHIFT'])/(1+meta['REDSHIFT'])\n",
    "plt.plot(meta['REDSHIFT'], dv, '.')\n",
    "plt.ylim(-1000, 1000)\n",
    "plt.xlabel('true redshift')"
   ]
  },
  {
   "cell_type": "markdown",
   "metadata": {},
   "source": [
    "Unsurprisingly, it is harder to fit a redshift on a spectrum polluted with a lot of moonlight"
   ]
  },
  {
   "cell_type": "markdown",
   "metadata": {},
   "source": [
    "## Exercises"
   ]
  },
  {
   "cell_type": "markdown",
   "metadata": {},
   "source": [
    "1. Run `help(qso_maker.make_templates)` to see what other options\n",
    "are available for generating QSO templates.  Try adjusting the magnitude\n",
    "or redshift ranges and resimulating\n",
    "\n",
    "2. This tutorial used `desisim.templates.SIMQSO()` to generate QSO templates.  There are also template generators for `ELG`, `LRG`, `BGS`, `STD`, `MWS_STAR`, `STAR`, `WD`; run `help(desisim.templates)` for details.  Try generating other template classes and studying their redshift efficiency.\n",
    "\n",
    "3. Simulate more QSOs and study their efficiency vs. S/N or g-band magnitude."
   ]
  },
  {
   "cell_type": "markdown",
   "metadata": {},
   "source": [
    "## Appendix: Code versions"
   ]
  },
  {
   "cell_type": "code",
   "execution_count": null,
   "metadata": {},
   "outputs": [],
   "source": [
    "from desitutorials import print_code_versions\n",
    "print(\"This tutorial last ran successfully to completion using the following versions of the following modules:\") \n",
    "print_code_versions()"
   ]
  },
  {
   "cell_type": "markdown",
   "metadata": {},
   "source": [
    "## Appendix: other spectro simulators\n",
    "\n",
    "This tutorial focused on quickspectra, which simulates spectra outside of the context\n",
    "of the full spectroscopic pipeline.  Under the hood of this script is [specsim](http://specsim.readthedocs.io/en/stable), which has many more options, e.g. for adjusting input fiberloss fractions based upon object sizes.  See the [specsim tutorials](https://github.com/desihub/specsim/tree/master/docs/nb) for details.\n",
    "\n",
    "Note: the [minitest notebook](https://github.com/desihub/desitest/blob/master/mini/minitest.ipynb) in the [desitest](https://github.com/desihub/desitest) has instructions for the full end-to-end chain covering survey simulations, mocks, fiber assignment, spectral simulation, running the DESI spectro pipeline, and ending with a redshift catalog.  But that takes ~2 hours to run and consumes ~1500 MPP hours at NERSC, so it is primarily used for reference and integration testing."
   ]
  }
 ],
 "metadata": {
  "anaconda-cloud": {},
  "kernelspec": {
   "display_name": "DESI 19.9",
   "language": "python",
   "name": "desi-19.9"
  },
  "language_info": {
   "codemirror_mode": {
    "name": "ipython",
    "version": 3
   },
   "file_extension": ".py",
   "mimetype": "text/x-python",
   "name": "python",
   "nbconvert_exporter": "python",
   "pygments_lexer": "ipython3",
   "version": "3.6.6"
  }
 },
 "nbformat": 4,
 "nbformat_minor": 4
}
