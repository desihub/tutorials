{
 "cells": [
  {
   "cell_type": "markdown",
   "metadata": {},
   "source": [
    "# Introduction to Survey Simulations"
   ]
  },
  {
   "cell_type": "markdown",
   "metadata": {},
   "source": [
    "The goal of this notebook is to introduce you to the outputs available from DESI \"survey simulations\". These are the fastest type of DESI simulation to run and only involve the following components:\n",
    " - Simulated stochastic weather (seeing, transparency, ...). See [DESI-3087](https://desi.lbl.gov/DocDB/cgi-bin/private/ShowDocument?docid=3087) for details.\n",
    " - Afternoon planning, which updates tile observing priorities and schedules fiber assignment.\n",
    " - Next tile selector, which determines which tile to observe next, based on recent progress and current weather.\n",
    " \n",
    "The software for these components is mostly in the [desisurvey](https://desisurvey.readthedocs.io) and [surveysim](https://surveysim.readthedocs.io) packages.  Note that survey simulations operate at the level of tiles, not targets, and never generate spectra or redshifts and do not refer to any input catalog.  For a recent overview of the different DESI simluation types, see [DESI-3377](https://desi.lbl.gov/DocDB/cgi-bin/private/ShowDocument?docid=3377).\n",
    "\n",
    "This tutorial focuses on the using the outputs of a survey simulation. After working with the outputs from some existing simulations, you might want to run your own survey simulations: that tutorial is [here](http://surveysim.readthedocs.io/en/latest/tutorial.html).  For other tutorials, covering topics such as simulating your own DESI spectra, see [this list](https://github.com/desihub/tutorials/blob/master/README.md).\n",
    "\n",
    "For general questions and suggestions on this tutorial, email desi-data@desi.lbl.gov. For more specific suggestions or bug reports, please [create a github issue](https://github.com/desihub/tutorials/issues)."
   ]
  },
  {
   "cell_type": "markdown",
   "metadata": {},
   "source": [
    "## Getting Started"
   ]
  },
  {
   "cell_type": "markdown",
   "metadata": {},
   "source": [
    "This notebook is optimized for use with the jupyter-dev service at NERSC, which provides pre-installed DESI software running in a jupyter notebook. If this is your first time using jupyter-dev at NERSC, follow [these instructions](https://desi.lbl.gov/trac/wiki/Computing/JupyterAtNERSC) to get it configured.\n",
    "\n",
    "If you prefer to work on your laptop, you will need to [install the necessary DESI software locally](https://desi.lbl.gov/trac/wiki/Pipeline/GettingStarted/Laptop).\n",
    "\n",
    "**If you are working through this notebook in a live jupyter session, I recommend removing all the output below for a more interactive experience.** Use the \"Cell > Current Outputs > Clear\" menu item.\n",
    "\n",
    "**There are several exercises below for you to work on once you master the basics.**"
   ]
  },
  {
   "cell_type": "markdown",
   "metadata": {},
   "source": [
    "#### DESI Version Compatibility\n",
    "\n",
    "- 2017-12-04 : tested using the `DESI master` kernel on jupyter-dev with the `surveysim2017/depth_0m/` outputs.\n",
    "- 2018-03-30 : tested using the `DESI 18.3` kernel on jupyter-dev with the `surveysim2017/depth_0m/` outputs (which were generated with an earlier version of the code).\n",
    "- 2018-07-20 : tested using the `DESI 18.6` kernel on jupyter-dev with the `surveysim2017/depth_0m/` outputs (which were generated with an earlier version of the code).\n",
    "- 2018-10-15 : tested using the `DESI 18.7` kernel on jupyter-dev with the `surveysim2017/depth_0m/` outputs (which were generated with an earlier version of the code).\n",
    "- 2019-03-22 : tested using the `DESI 18.11` kernel.  It currently does *not* work with the `18.12` or `19.2` kernels.\n",
    "- 2019-07-01 : updated to use the `DESI 19.2` kernel.\n",
    "- 2019-10-30 : updated to use the `DESI 19.9` kernel."
   ]
  },
  {
   "cell_type": "markdown",
   "metadata": {},
   "source": [
    "### Load Modules"
   ]
  },
  {
   "cell_type": "markdown",
   "metadata": {},
   "source": [
    "Import numpy and matplotlib and draw plots directly to the notebook:"
   ]
  },
  {
   "cell_type": "code",
   "execution_count": null,
   "metadata": {},
   "outputs": [],
   "source": [
    "%pylab inline"
   ]
  },
  {
   "cell_type": "markdown",
   "metadata": {},
   "source": [
    "Import the `desisurvey` modules we need below:"
   ]
  },
  {
   "cell_type": "code",
   "execution_count": null,
   "metadata": {},
   "outputs": [],
   "source": [
    "import desisurvey.utils\n",
    "import desisurvey.plots\n",
    "from astropy.io import fits\n",
    "import numpy\n",
    "import desimodel\n",
    "import surveysim.stats"
   ]
  },
  {
   "cell_type": "markdown",
   "metadata": {},
   "source": [
    "Ignore expected harmless warnings (or don't run these lines if you prefer to see them):"
   ]
  },
  {
   "cell_type": "code",
   "execution_count": null,
   "metadata": {},
   "outputs": [],
   "source": [
    "import warnings, matplotlib.cbook, astropy._erfa.core\n",
    "warnings.filterwarnings('ignore', category=matplotlib.cbook.mplDeprecation)\n",
    "warnings.filterwarnings('ignore', category=astropy._erfa.core.ErfaWarning)"
   ]
  },
  {
   "cell_type": "markdown",
   "metadata": {},
   "source": [
    "### Find Simulation Outputs"
   ]
  },
  {
   "cell_type": "markdown",
   "metadata": {},
   "source": [
    "Identify which survey simulation you want to study by setting the `$DESISURVEY_OUTPUT` environment variable.\n",
    "\n",
    "Here we look at the first of one hundred different realizations of the baseline survey as part of the surveysim 2018 data challenge.\n",
    "\n",
    "Note that `$DESISURVEY_OUTPUT` is only read the first time you use a `desisurvey` function, so the easiest way to make a change below take effect is to restart the jupyter kernel and re-run the initial cells."
   ]
  },
  {
   "cell_type": "code",
   "execution_count": null,
   "metadata": {},
   "outputs": [],
   "source": [
    "import os\n",
    "os.environ['DESISURVEY_OUTPUT'] = '/global/projecta/projectdirs/desi/datachallenge/surveysim2018/weather/000'"
   ]
  },
  {
   "cell_type": "markdown",
   "metadata": {},
   "source": [
    "## Survey Simulation Outputs"
   ]
  },
  {
   "cell_type": "markdown",
   "metadata": {},
   "source": [
    "The outputs from a survey simulation are two FITS files, one organized by **exposure** and **tile** (exposures.fits, exposures & tiledata HDUs), and the other organized by **night** (stats.fits).  Tiles are predefined ([DESI-717](https://desi.lbl.gov/DocDB/cgi-bin/private/ShowDocument?docid=717)) to cover the whole survey footprint in 8 dithered passes. Each tile is observed with one or more exposures.  Multiple exposures of a tile are sometimes required to:\n",
    " - Split a long exposure to minimize the impact of cosmic rays.\n",
    " - Continue an exposure that is terminated early due to a program change (or dawn).\n",
    " - Continue an exposure that is found to have insufficient signal to noise after pipeline processing.\n",
    "\n",
    "After setting `$DESISURVEY_OUTPUT`, look at the corresponding files using:"
   ]
  },
  {
   "cell_type": "code",
   "execution_count": null,
   "metadata": {},
   "outputs": [],
   "source": [
    "os.listdir(os.environ['DESISURVEY_OUTPUT'])"
   ]
  },
  {
   "cell_type": "markdown",
   "metadata": {},
   "source": [
    "The `ephem` and `surveyinit` files contain the ephemerides for the DESI survey duration and the initial LST assignments, and will not be considered further here."
   ]
  },
  {
   "cell_type": "code",
   "execution_count": null,
   "metadata": {},
   "outputs": [],
   "source": [
    "exposures = fits.getdata(os.path.join(os.environ['DESISURVEY_OUTPUT'], 'exposures.fits'), 'exposures')\n",
    "tilestats = fits.getdata(os.path.join(os.environ['DESISURVEY_OUTPUT'], 'exposures.fits'), 'tiledata')"
   ]
  },
  {
   "cell_type": "code",
   "execution_count": null,
   "metadata": {},
   "outputs": [],
   "source": [
    "print('Survey runs {} to {} and observes {} tiles with {} exposures.'\n",
    "      .format(\n",
    "          desisurvey.utils.get_date(numpy.min(exposures['mjd'])),\n",
    "          desisurvey.utils.get_date(numpy.max(exposures['mjd'])), numpy.sum(tilestats['snr2frac'] >= 1), len(exposures)))"
   ]
  },
  {
   "cell_type": "markdown",
   "metadata": {},
   "source": [
    "Note that progress uses MJD timestamps internally, which can be converted to dates using [`desisurvey.utils.get_date()`](http://desisurvey.readthedocs.io/en/latest/api.html?highlight=get_date#desisurvey.utils.get_date)."
   ]
  },
  {
   "cell_type": "markdown",
   "metadata": {},
   "source": [
    "The exposures HDU has one record per exposure, and the tiles HDU has one record per tile."
   ]
  },
  {
   "cell_type": "code",
   "execution_count": null,
   "metadata": {},
   "outputs": [],
   "source": [
    "print(repr(exposures[:3]))\n",
    "print(repr(tilestats[:3]))"
   ]
  },
  {
   "cell_type": "markdown",
   "metadata": {},
   "source": [
    "The exposures HDU tracks quantities like the MJDs on which the exposures were observed, the tiles which they observed, the conditions of those observations, and the accumulated SNR2 fraction."
   ]
  },
  {
   "cell_type": "markdown",
   "metadata": {},
   "source": [
    "The tiles HDU does not replicate useful information already in the tile file.  Let's link in that information..."
   ]
  },
  {
   "cell_type": "code",
   "execution_count": null,
   "metadata": {},
   "outputs": [],
   "source": [
    "tiles = desisurvey.tiles.get_tiles()"
   ]
  },
  {
   "cell_type": "markdown",
   "metadata": {},
   "source": [
    "The tiles object is row-matched to the tilestats HDU."
   ]
  },
  {
   "cell_type": "code",
   "execution_count": null,
   "metadata": {},
   "outputs": [],
   "source": [
    "print(tiles.tileRA.shape, tilestats.shape)"
   ]
  },
  {
   "cell_type": "markdown",
   "metadata": {},
   "source": [
    "The desisurvey.plots module contains routines to visualize survey parameters.  Here we show tile completeness in each of the 8 passes (4 dark, one gray, three bright).  All passes except the final bright pass were completed.  There is a slight tendency for tiles at low and high decs and at the edge of the footprint to take longer than other tiles, due to airmass and Galactic extinction, but weather effects dominate."
   ]
  },
  {
   "cell_type": "markdown",
   "metadata": {},
   "source": [
    "## Tiles Summary"
   ]
  },
  {
   "cell_type": "markdown",
   "metadata": {},
   "source": [
    "The tiles table has one row per tile containing summary statistics of all exposures (if any) of that tile:"
   ]
  },
  {
   "cell_type": "code",
   "execution_count": null,
   "metadata": {},
   "outputs": [],
   "source": [
    "tilestats[:3]"
   ]
  },
  {
   "cell_type": "markdown",
   "metadata": {},
   "source": [
    "The primary metric used to set the goal total exposure time for each tile is signal-to-noise ratio (SNR) for a set of predefined \"threshold targets\":\n",
    " - DARK & GRAY programs: ELGs with integrated \\[OII\\] flux of 8e-17 erg/(s cm^2)\n",
    " - BRIGHT program: BGS targets with r=19.5 and no emission lines\n",
    " \n",
    "Plot the ratio of actual / goal SNR for each tile:"
   ]
  },
  {
   "cell_type": "code",
   "execution_count": null,
   "metadata": {},
   "outputs": [],
   "source": [
    "plt.hist(tilestats['snr2frac'], range=(0.75, 1.25), bins=25)\n",
    "plt.xlabel('Tile SNR(actual) / SNR (goal)')\n",
    "plt.axvline(np.median(tilestats['snr2frac']), c='r');"
   ]
  },
  {
   "cell_type": "markdown",
   "metadata": {},
   "source": [
    "Plot the corresponding total exposure times, which shows two peaks for the BRIGHT and DARK+GRAY programs:"
   ]
  },
  {
   "cell_type": "code",
   "execution_count": null,
   "metadata": {},
   "outputs": [],
   "source": [
    "plt.hist(tilestats['exptime'] / 60, range=(0, 60), bins=30)\n",
    "plt.xlabel('Tile Total Exposure Time [min]')\n",
    "plt.axvline(np.median(tilestats['exptime'] / 60), c='r');"
   ]
  },
  {
   "cell_type": "markdown",
   "metadata": {},
   "source": [
    "To plot the distribution of any column's values over the sky, separately for each of the 8 passes, use `plot_sky_passes`:"
   ]
  },
  {
   "cell_type": "code",
   "execution_count": null,
   "metadata": {},
   "outputs": [],
   "source": [
    "help(desisurvey.plots.plot_sky_passes)"
   ]
  },
  {
   "cell_type": "markdown",
   "metadata": {},
   "source": [
    "For example, to see the distributions of SNR(actual) / SNR(goal) over the sky after year 1 (this function takes ~30s to run):"
   ]
  },
  {
   "cell_type": "markdown",
   "metadata": {},
   "source": [
    "The following columns summarize the afternoon planning and scheduling of fiber assignment (FA):\n",
    " - covered: Date the tile is first covered by previous layers and thus eligible for FA.\n",
    " - available: Date the tile first has fibers assigned.\n",
    " - planned: Date the tile is first included in the observing plan.\n",
    " \n",
    "All dates are specified as an integer number of days from the survey start date (defined by [this utility function](http://desisurvey.readthedocs.io/en/latest/api.html#desisurvey.utils.day_number)).  As an example, plot the number of days into the survey that each tile became available for fiber assignment:"
   ]
  },
  {
   "cell_type": "code",
   "execution_count": null,
   "metadata": {},
   "outputs": [],
   "source": [
    "desisurvey.plots.plot_sky_passes(tiles.tileRA, tiles.tileDEC, tiles.passnum, tilestats['avail'], label='Day when tile became available');"
   ]
  },
  {
   "cell_type": "markdown",
   "metadata": {},
   "source": [
    "Note that the depth-first strategy has all tiles planned (=0) at the start of the survey, but other strategies have more complex dependencies between different regions of the sky in each pass."
   ]
  },
  {
   "cell_type": "markdown",
   "metadata": {},
   "source": [
    "Alternatively, let's look at what tiles in the survey were completed..."
   ]
  },
  {
   "cell_type": "code",
   "execution_count": null,
   "metadata": {},
   "outputs": [],
   "source": [
    "desisurvey.plots.plot_sky_passes(tiles.tileRA, tiles.tileDEC, tiles.passnum, tilestats['snr2frac'], label='snr2frac');"
   ]
  },
  {
   "cell_type": "markdown",
   "metadata": {},
   "source": [
    "All but a small area of the survey in the last bright pass was completed."
   ]
  },
  {
   "cell_type": "markdown",
   "metadata": {},
   "source": [
    "### Exercises"
   ]
  },
  {
   "cell_type": "code",
   "execution_count": null,
   "metadata": {},
   "outputs": [],
   "source": [
    "# Plot a histogram of the number of exposures of each tile in the full survey."
   ]
  },
  {
   "cell_type": "code",
   "execution_count": null,
   "metadata": {},
   "outputs": [],
   "source": [
    "# Plot histograms of snr2frac after year-1 separately for the DARK, GRAY, BRIGHT programs."
   ]
  },
  {
   "cell_type": "code",
   "execution_count": null,
   "metadata": {},
   "outputs": [],
   "source": [
    "# Create all-sky plots of the mean airmass that each tile was observed at in the full survey."
   ]
  },
  {
   "cell_type": "code",
   "execution_count": null,
   "metadata": {},
   "outputs": [],
   "source": [
    "# Study the tile \"overhead\", defined as 86400 * (mjd_max - mjd_min) - exptime."
   ]
  },
  {
   "cell_type": "markdown",
   "metadata": {},
   "source": [
    "## Exposures List"
   ]
  },
  {
   "cell_type": "markdown",
   "metadata": {},
   "source": [
    "The exposures list is a table with rows corresponding to each simulated exposure, in increasing time order, with columns for their simulated observing conditions. Note that column names are all UPPER CASE."
   ]
  },
  {
   "cell_type": "code",
   "execution_count": null,
   "metadata": {},
   "outputs": [],
   "source": [
    "exposures[:3]"
   ]
  },
  {
   "cell_type": "markdown",
   "metadata": {},
   "source": [
    "To see the distribution of individual exposure times (and compare with the total exposure time plot above), use:"
   ]
  },
  {
   "cell_type": "code",
   "execution_count": null,
   "metadata": {},
   "outputs": [],
   "source": [
    "plt.hist(exposures['EXPTIME'] / 60, range=(0, 25), bins=25)\n",
    "plt.xlabel('Individual Exposure Time [min]')\n",
    "plt.axvline(np.median(exposures['EXPTIME'] / 60), c='r');"
   ]
  },
  {
   "cell_type": "markdown",
   "metadata": {},
   "source": [
    "To see the distribution of atmospheric seeing during the simulated survey, use:"
   ]
  },
  {
   "cell_type": "code",
   "execution_count": null,
   "metadata": {},
   "outputs": [],
   "source": [
    "plt.hist(exposures['SEEING'], bins=25)\n",
    "plt.xlabel('Per-Exposure FWHM Seeing [arcsec]')\n",
    "plt.axvline(np.median(exposures['SEEING']), c='r');"
   ]
  },
  {
   "cell_type": "markdown",
   "metadata": {},
   "source": [
    "To study the correlation between  exposure time and seeing in the first DARK pass, use:"
   ]
  },
  {
   "cell_type": "code",
   "execution_count": null,
   "metadata": {},
   "outputs": [],
   "source": [
    "maxpass0 = numpy.max(tiles.tileID[tiles.passnum == 0])\n",
    "pass1 = exposures[exposures['tileid'] <= maxpass0]\n",
    "plt.scatter(pass1['EXPTIME'] / 60, pass1['SEEING'], c=pass1['AIRMASS'], lw=0, s=5);\n",
    "plt.colorbar().set_label('Airmass')\n",
    "plt.xlabel('Exposure Time [min]')\n",
    "plt.ylabel('Atmospheric FWHM Seeing [arcsec]');"
   ]
  },
  {
   "cell_type": "markdown",
   "metadata": {},
   "source": [
    "## Nightly survey statistics"
   ]
  },
  {
   "cell_type": "markdown",
   "metadata": {},
   "source": [
    "Now let's look at the efficiency of the survey over time.  The statistics file tracks survey statistics on each **night** of observations."
   ]
  },
  {
   "cell_type": "code",
   "execution_count": null,
   "metadata": {},
   "outputs": [],
   "source": [
    "stats = surveysim.stats.SurveyStatistics(restore=os.path.join(os.environ['DESISURVEY_OUTPUT'], 'stats.fits'))"
   ]
  },
  {
   "cell_type": "markdown",
   "metadata": {},
   "source": [
    "Under the hood, the stats object has information on each of 1826 nights contributing to the survey---for instance, the amount of time the dome was open, the amount of time used for science, the number of completed tiles, etc."
   ]
  },
  {
   "cell_type": "code",
   "execution_count": null,
   "metadata": {},
   "outputs": [],
   "source": [
    "print(stats._data.dtype)\n",
    "print('Number of nights: {}'.format(len(stats._data)))"
   ]
  },
  {
   "cell_type": "markdown",
   "metadata": {},
   "source": [
    "The `SurveyStatistics` class makes it easy to visualize survey completion with time and see survey completion statistics."
   ]
  },
  {
   "cell_type": "code",
   "execution_count": null,
   "metadata": {},
   "outputs": [],
   "source": [
    "stats.plot();"
   ]
  },
  {
   "cell_type": "markdown",
   "metadata": {},
   "source": [
    "The `summarize` method gives a text summary of the survey completeness and efficiency."
   ]
  },
  {
   "cell_type": "code",
   "execution_count": null,
   "metadata": {},
   "outputs": [],
   "source": [
    "stats.summarize()"
   ]
  },
  {
   "cell_type": "markdown",
   "metadata": {},
   "source": [
    "The survey was completed in all passes except for the last bright pass, of which 1903 of 2010 passes were completed, in this simulation.  Only a small number of exposures were aborted.  An average of 10 minutes a night was lost to dead time in dark time, mostly at the end of the survey when tiles are not available at all LSTs."
   ]
  },
  {
   "cell_type": "markdown",
   "metadata": {},
   "source": [
    "## Using many weather realizations"
   ]
  },
  {
   "cell_type": "markdown",
   "metadata": {},
   "source": [
    "The above tutorial has focused entirely on a single realization of the weather for the survey.  Another item of interest is how sensitive we expect the survey completion to be on the weather.  Let's try to figure out how much the weather affects completion statistics in the first year..."
   ]
  },
  {
   "cell_type": "code",
   "execution_count": null,
   "metadata": {},
   "outputs": [],
   "source": [
    "def completed_in_timerange(exposures, startmjd, stopmjd):\n",
    "    m = (exposures['mjd'] > startmjd) & (exposures['mjd'] < stopmjd)\n",
    "    tilepass = tiles.passnum[tiles.index(exposures['tileid'])]\n",
    "    return [numpy.sum(exposures['snr2frac'][m & (tilepass == pass0)] >= 1)\n",
    "            for pass0 in tiles.passes]"
   ]
  },
  {
   "cell_type": "code",
   "execution_count": null,
   "metadata": {},
   "outputs": [],
   "source": [
    "print('First day: {}'.format(int(numpy.min(exposures['mjd']))))"
   ]
  },
  {
   "cell_type": "code",
   "execution_count": null,
   "metadata": {},
   "outputs": [],
   "source": [
    "completed = []\n",
    "\n",
    "parentdir = '/global/projecta/projectdirs/desi/datachallenge/surveysim2018/weather'\n",
    "\n",
    "for direc in range(100):\n",
    "    exposures0 = fits.getdata(os.path.join(parentdir, '{:03}'.format(direc), 'exposures.fits'))\n",
    "    completed.append(completed_in_timerange(exposures0, 58821, 58821+365))"
   ]
  },
  {
   "cell_type": "code",
   "execution_count": null,
   "metadata": {},
   "outputs": [],
   "source": [
    "print('pass, fraction complete, standard deviation')\n",
    "for tpass, ttilecomplete, ttilestd in zip(tiles.passes, numpy.mean(completed, axis=0), numpy.std(completed, axis=0)):\n",
    "    ntile = tiles.pass_ntiles[tpass]\n",
    "    print('{} {:5.1%} {:5.1%}'.format(tpass, ttilecomplete/ntile, ttilestd/ntile))"
   ]
  },
  {
   "cell_type": "markdown",
   "metadata": {},
   "source": [
    "There is not a big difference in survey completion among the various different realizations of the weather.  The bright time first pass completion is most affected, finishing 53%, plus or minus 4 percent.  In this strategy, passes 2 & 3, the last two dark passes, do not finish much area, 5% plus or minus 1%."
   ]
  },
  {
   "cell_type": "markdown",
   "metadata": {},
   "source": [
    "### Exercises"
   ]
  },
  {
   "cell_type": "code",
   "execution_count": null,
   "metadata": {},
   "outputs": [],
   "source": [
    "# Study the correlation between exposure time and moon altitude (which is underestimated in these simulations)"
   ]
  },
  {
   "cell_type": "code",
   "execution_count": null,
   "metadata": {},
   "outputs": [],
   "source": [
    "# Plot histograms of the number of exposures per night in each program."
   ]
  },
  {
   "cell_type": "code",
   "execution_count": null,
   "metadata": {},
   "outputs": [],
   "source": [
    "# Study how often GRAY and BRIGHT exposures are taken with no moon in the sky."
   ]
  },
  {
   "cell_type": "code",
   "execution_count": null,
   "metadata": {},
   "outputs": [],
   "source": [
    "# Study which of the 3 moon parameters correlates most strongly with exposure time."
   ]
  }
 ],
 "metadata": {
  "kernelspec": {
   "display_name": "DESI 19.9",
   "language": "python",
   "name": "desi-19.9"
  },
  "language_info": {
   "codemirror_mode": {
    "name": "ipython",
    "version": 3
   },
   "file_extension": ".py",
   "mimetype": "text/x-python",
   "name": "python",
   "nbconvert_exporter": "python",
   "pygments_lexer": "ipython3",
   "version": "3.6.6"
  }
 },
 "nbformat": 4,
 "nbformat_minor": 4
}
